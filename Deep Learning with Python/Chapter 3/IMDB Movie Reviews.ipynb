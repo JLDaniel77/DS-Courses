{
 "cells": [
  {
   "cell_type": "code",
   "execution_count": 1,
   "metadata": {},
   "outputs": [],
   "source": [
    "from tensorflow.keras.datasets import imdb"
   ]
  },
  {
   "cell_type": "code",
   "execution_count": 2,
   "metadata": {},
   "outputs": [],
   "source": [
    "# Import data\n",
    "(train_data, train_labels), (test_data, test_labels) = imdb.load_data(num_words=10000)"
   ]
  },
  {
   "cell_type": "code",
   "execution_count": 14,
   "metadata": {},
   "outputs": [
    {
     "name": "stdout",
     "output_type": "stream",
     "text": [
      "[1, 14, 22, 16, 43, 530, 973, 1622, 1385, 65, 458, 4468, 66, 3941, 4, 173, 36, 256, 5, 25, 100, 43, 838, 112, 50, 670, 2, 9, 35, 480, 284, 5, 150, 4, 172, 112, 167, 2, 336, 385, 39, 4, 172, 4536, 1111, 17, 546, 38, 13, 447, 4, 192, 50, 16, 6, 147, 2025, 19, 14, 22, 4, 1920, 4613, 469, 4, 22, 71, 87, 12, 16, 43, 530, 38, 76, 15, 13, 1247, 4, 22, 17, 515, 17, 12, 16, 626, 18, 2, 5, 62, 386, 12, 8, 316, 8, 106, 5, 4, 2223, 5244, 16, 480, 66, 3785, 33, 4, 130, 12, 16, 38, 619, 5, 25, 124, 51, 36, 135, 48, 25, 1415, 33, 6, 22, 12, 215, 28, 77, 52, 5, 14, 407, 16, 82, 2, 8, 4, 107, 117, 5952, 15, 256, 4, 2, 7, 3766, 5, 723, 36, 71, 43, 530, 476, 26, 400, 317, 46, 7, 4, 2, 1029, 13, 104, 88, 4, 381, 15, 297, 98, 32, 2071, 56, 26, 141, 6, 194, 7486, 18, 4, 226, 22, 21, 134, 476, 26, 480, 5, 144, 30, 5535, 18, 51, 36, 28, 224, 92, 25, 104, 4, 226, 65, 16, 38, 1334, 88, 12, 16, 283, 5, 16, 4472, 113, 103, 32, 15, 16, 5345, 19, 178, 32] \n",
      " 1\n"
     ]
    }
   ],
   "source": [
    "# Inspect first row and label of training data\n",
    "print(train_data[0], '\\n', train_labels[0])"
   ]
  },
  {
   "cell_type": "code",
   "execution_count": 10,
   "metadata": {},
   "outputs": [],
   "source": [
    "# Decode a review back to English words\n",
    "word_index = imdb.get_word_index()\n",
    "reverse_word_index = dict([(value, key) for (key, value) in word_index.items()])\n",
    "decoded_review = ' '.join([reverse_word_index.get(i - 3, '?') for i in train_data[1]])"
   ]
  },
  {
   "cell_type": "code",
   "execution_count": 11,
   "metadata": {},
   "outputs": [
    {
     "data": {
      "text/plain": [
       "\"? big hair big boobs bad music and a giant safety pin these are the words to best describe this terrible movie i love cheesy horror movies and i've seen hundreds but this had got to be on of the worst ever made the plot is paper thin and ridiculous the acting is an abomination the script is completely laughable the best is the end showdown with the cop and how he worked out who the killer is it's just so damn terribly written the clothes are sickening and funny in equal ? the hair is big lots of boobs ? men wear those cut ? shirts that show off their ? sickening that men actually wore them and the music is just ? trash that plays over and over again in almost every scene there is trashy music boobs and ? taking away bodies and the gym still doesn't close for ? all joking aside this is a truly bad film whose only charm is to look back on the disaster that was the 80's and have a good old laugh at how bad everything was back then\""
      ]
     },
     "execution_count": 11,
     "metadata": {},
     "output_type": "execute_result"
    }
   ],
   "source": [
    "decoded_review"
   ]
  },
  {
   "cell_type": "markdown",
   "metadata": {},
   "source": [
    "# Preparing the data\n",
    "\n",
    "- You can't feed lists of integers into a neural network. You have to turn your lists into tensors.\n",
    "\n",
    "### 2 ways to turn lists into tensors:\n",
    "\n",
    "- Pad your lists so that they all have the same length, turn them into an integer tensor of shape (samples, word_indicies), and then use as the first layer in your network as a layer capable of handling such integer tensors (the Embedding layer)\n",
    "\n",
    "- One-hot encode your lists to turn them into vectors of 0s and 1s. Then you could use as the first layer in your network a Dense layer, capable of handling floating-point vector data."
   ]
  },
  {
   "cell_type": "code",
   "execution_count": 12,
   "metadata": {},
   "outputs": [],
   "source": [
    "import numpy as np"
   ]
  },
  {
   "cell_type": "code",
   "execution_count": 13,
   "metadata": {},
   "outputs": [],
   "source": [
    "# Encoding the integer sequences into a binary matrix\n",
    "def vectorize_sequences(sequences, dimension=10000):\n",
    "    # Creates an all-zero matrix of shape (len(sequences), dimension)\n",
    "    results = np.zeros((len(sequences), dimension))\n",
    "    for i, sequence in enumerate(sequences):\n",
    "        # Sets specific indices of results[i] to ones\n",
    "        results[i, sequence] = 1.\n",
    "    return results\n",
    "\n",
    "# Vectorize training and test data\n",
    "x_train = vectorize_sequences(train_data)\n",
    "x_test = vectorize_sequences(test_data)"
   ]
  },
  {
   "cell_type": "code",
   "execution_count": 15,
   "metadata": {},
   "outputs": [
    {
     "data": {
      "text/plain": [
       "array([0., 1., 1., ..., 0., 0., 0.])"
      ]
     },
     "execution_count": 15,
     "metadata": {},
     "output_type": "execute_result"
    }
   ],
   "source": [
    "# Inspect the first row of data after vectorizing it\n",
    "x_train[0]"
   ]
  },
  {
   "cell_type": "code",
   "execution_count": 16,
   "metadata": {},
   "outputs": [],
   "source": [
    "# You should also vectorize your labels\n",
    "y_train = np.asarray(train_labels).astype('float32')\n",
    "y_test = np.asarray(test_labels).astype('float32')"
   ]
  },
  {
   "cell_type": "markdown",
   "metadata": {},
   "source": [
    "### Building the neural network"
   ]
  },
  {
   "cell_type": "code",
   "execution_count": 17,
   "metadata": {},
   "outputs": [],
   "source": [
    "from tensorflow.keras.models import Sequential\n",
    "from tensorflow.keras.layers import Dense"
   ]
  },
  {
   "cell_type": "code",
   "execution_count": 18,
   "metadata": {},
   "outputs": [],
   "source": [
    "model = Sequential()\n",
    "model.add(Dense(16, activation='relu', input_shape=(10000,)))\n",
    "model.add(Dense(16, activation='relu'))\n",
    "model.add(Dense(1, activation='sigmoid'))"
   ]
  },
  {
   "cell_type": "code",
   "execution_count": 20,
   "metadata": {},
   "outputs": [],
   "source": [
    "# Create a validation set from the training set\n",
    "x_val = x_train[:10000]\n",
    "partial_x_train = x_train[10000:]\n",
    "\n",
    "y_val = y_train[:10000]\n",
    "partial_y_train = y_train[10000:]"
   ]
  },
  {
   "cell_type": "code",
   "execution_count": 19,
   "metadata": {},
   "outputs": [],
   "source": [
    "# Compile the model\n",
    "model.compile(optimizer='rmsprop', loss='binary_crossentropy', metrics=['accuracy'])"
   ]
  },
  {
   "cell_type": "code",
   "execution_count": 21,
   "metadata": {},
   "outputs": [
    {
     "name": "stdout",
     "output_type": "stream",
     "text": [
      "Train on 15000 samples, validate on 10000 samples\n",
      "Epoch 1/20\n",
      "15000/15000 [==============================] - 6s 413us/sample - loss: 0.5346 - accuracy: 0.7765 - val_loss: 0.4026 - val_accuracy: 0.8671\n",
      "Epoch 2/20\n",
      "15000/15000 [==============================] - 4s 273us/sample - loss: 0.3188 - accuracy: 0.9017 - val_loss: 0.3156 - val_accuracy: 0.8835\n",
      "Epoch 3/20\n",
      "15000/15000 [==============================] - 4s 263us/sample - loss: 0.2319 - accuracy: 0.9266 - val_loss: 0.2834 - val_accuracy: 0.8887\n",
      "Epoch 4/20\n",
      "15000/15000 [==============================] - 4s 250us/sample - loss: 0.1796 - accuracy: 0.9434 - val_loss: 0.2737 - val_accuracy: 0.8908\n",
      "Epoch 5/20\n",
      "15000/15000 [==============================] - 4s 259us/sample - loss: 0.1475 - accuracy: 0.9522 - val_loss: 0.2852 - val_accuracy: 0.8860\n",
      "Epoch 6/20\n",
      "15000/15000 [==============================] - 4s 236us/sample - loss: 0.1191 - accuracy: 0.9641 - val_loss: 0.2915 - val_accuracy: 0.8852\n",
      "Epoch 7/20\n",
      "15000/15000 [==============================] - 4s 245us/sample - loss: 0.0986 - accuracy: 0.9712 - val_loss: 0.3089 - val_accuracy: 0.8835\n",
      "Epoch 8/20\n",
      "15000/15000 [==============================] - 4s 237us/sample - loss: 0.0791 - accuracy: 0.9774 - val_loss: 0.3576 - val_accuracy: 0.8736\n",
      "Epoch 9/20\n",
      "15000/15000 [==============================] - 4s 243us/sample - loss: 0.0664 - accuracy: 0.9818 - val_loss: 0.3634 - val_accuracy: 0.8759\n",
      "Epoch 10/20\n",
      "15000/15000 [==============================] - 4s 255us/sample - loss: 0.0532 - accuracy: 0.9856 - val_loss: 0.3775 - val_accuracy: 0.8769\n",
      "Epoch 11/20\n",
      "15000/15000 [==============================] - 4s 246us/sample - loss: 0.0417 - accuracy: 0.9907 - val_loss: 0.4067 - val_accuracy: 0.8783\n",
      "Epoch 12/20\n",
      "15000/15000 [==============================] - 4s 242us/sample - loss: 0.0342 - accuracy: 0.9931 - val_loss: 0.4320 - val_accuracy: 0.8750\n",
      "Epoch 13/20\n",
      "15000/15000 [==============================] - 3s 229us/sample - loss: 0.0261 - accuracy: 0.9959 - val_loss: 0.4854 - val_accuracy: 0.8679\n",
      "Epoch 14/20\n",
      "15000/15000 [==============================] - 4s 237us/sample - loss: 0.0211 - accuracy: 0.9962 - val_loss: 0.5010 - val_accuracy: 0.8724\n",
      "Epoch 15/20\n",
      "15000/15000 [==============================] - 4s 249us/sample - loss: 0.0170 - accuracy: 0.9973 - val_loss: 0.5462 - val_accuracy: 0.8675\n",
      "Epoch 16/20\n",
      "15000/15000 [==============================] - 4s 248us/sample - loss: 0.0146 - accuracy: 0.9975 - val_loss: 0.5597 - val_accuracy: 0.8691\n",
      "Epoch 17/20\n",
      "15000/15000 [==============================] - 4s 237us/sample - loss: 0.0077 - accuracy: 0.9997 - val_loss: 0.6018 - val_accuracy: 0.8689\n",
      "Epoch 18/20\n",
      "15000/15000 [==============================] - 4s 238us/sample - loss: 0.0090 - accuracy: 0.9987 - val_loss: 0.6317 - val_accuracy: 0.8673\n",
      "Epoch 19/20\n",
      "15000/15000 [==============================] - 4s 258us/sample - loss: 0.0081 - accuracy: 0.9985 - val_loss: 0.6657 - val_accuracy: 0.8674\n",
      "Epoch 20/20\n",
      "15000/15000 [==============================] - 4s 243us/sample - loss: 0.0032 - accuracy: 0.9999 - val_loss: 0.6972 - val_accuracy: 0.8663\n"
     ]
    }
   ],
   "source": [
    "# Train the model\n",
    "history = model.fit(partial_x_train, partial_y_train, epochs=20, batch_size=512,\n",
    "                    validation_data=(x_val, y_val))"
   ]
  },
  {
   "cell_type": "code",
   "execution_count": 22,
   "metadata": {},
   "outputs": [
    {
     "data": {
      "text/plain": [
       "dict_keys(['loss', 'accuracy', 'val_loss', 'val_accuracy'])"
      ]
     },
     "execution_count": 22,
     "metadata": {},
     "output_type": "execute_result"
    }
   ],
   "source": [
    "# Inspect results\n",
    "history_dict = history.history\n",
    "history_dict.keys()"
   ]
  },
  {
   "cell_type": "markdown",
   "metadata": {},
   "source": [
    "### Plotting the training and validation loss"
   ]
  },
  {
   "cell_type": "code",
   "execution_count": 23,
   "metadata": {},
   "outputs": [],
   "source": [
    "import matplotlib.pyplot as plt"
   ]
  },
  {
   "cell_type": "code",
   "execution_count": 26,
   "metadata": {},
   "outputs": [
    {
     "data": {
      "image/png": "[encoded data removed]",
      "text/plain": [
       "<Figure size 576x360 with 1 Axes>"
      ]
     },
     "metadata": {
      "needs_background": "light"
     },
     "output_type": "display_data"
    }
   ],
   "source": [
    "history_dict = history.history\n",
    "loss_values = history_dict['loss']\n",
    "val_loss_values = history_dict['val_loss']\n",
    "acc = history_dict['accuracy']\n",
    "\n",
    "epochs = range(1, len(acc) + 1)\n",
    "\n",
    "plt.figure(figsize=(8, 5))\n",
    "plt.plot(epochs, loss_values, 'bo', label='Training loss')\n",
    "plt.plot(epochs, val_loss_values, 'b', label='Validation loss')\n",
    "plt.title('Training and validation loss')\n",
    "plt.xlabel('Epochs')\n",
    "plt.ylabel('Loss')\n",
    "plt.legend()\n",
    "\n",
    "plt.show()"
   ]
  },
  {
   "cell_type": "markdown",
   "metadata": {},
   "source": [
    "### Plotting the training and validation accuracy"
   ]
  },
  {
   "cell_type": "code",
   "execution_count": 28,
   "metadata": {},
   "outputs": [
    {
     "data": {
      "image/png": "[encoded data removed]",
      "text/plain": [
       "<Figure size 432x288 with 1 Axes>"
      ]
     },
     "metadata": {
      "needs_background": "light"
     },
     "output_type": "display_data"
    }
   ],
   "source": [
    "# plt.clf()   # Clears the figure\n",
    "acc = history_dict['accuracy']\n",
    "val_acc = history_dict['val_accuracy']\n",
    "\n",
    "plt.plot(epochs, acc, 'bo', label='Training acc')\n",
    "plt.plot(epochs, val_acc, 'b', label='Validation acc')\n",
    "plt.title('Training and validation accuracy')\n",
    "plt.xlabel('Epochs')\n",
    "plt.ylabel('Loss')\n",
    "plt.legend()\n",
    "\n",
    "plt.show()"
   ]
  },
  {
   "cell_type": "markdown",
   "metadata": {},
   "source": [
    "# Retraining a model from scratch"
   ]
  },
  {
   "cell_type": "code",
   "execution_count": 29,
   "metadata": {},
   "outputs": [
    {
     "name": "stdout",
     "output_type": "stream",
     "text": [
      "Train on 25000 samples\n",
      "Epoch 1/4\n",
      "25000/25000 [==============================] - 5s 197us/sample - loss: 0.4977 - accuracy: 0.8123\n",
      "Epoch 2/4\n",
      "25000/25000 [==============================] - 4s 168us/sample - loss: 0.2905 - accuracy: 0.9051\n",
      "Epoch 3/4\n",
      "25000/25000 [==============================] - 4s 176us/sample - loss: 0.2160 - accuracy: 0.9242\n",
      "Epoch 4/4\n",
      "25000/25000 [==============================] - 4s 166us/sample - loss: 0.1738 - accuracy: 0.9401\n",
      "25000/25000 [==============================] - 8s 305us/sample - loss: 0.2984 - accuracy: 0.8804\n"
     ]
    }
   ],
   "source": [
    "model = Sequential()\n",
    "model.add(Dense(16, activation='relu', input_shape=(10000,)))\n",
    "model.add(Dense(16, activation='relu'))\n",
    "model.add(Dense(1, activation='sigmoid'))\n",
    "\n",
    "# Compile model\n",
    "model.compile(optimizer='rmsprop', loss='binary_crossentropy', metrics=['accuracy'])\n",
    "\n",
    "# Train the model\n",
    "model.fit(x_train, y_train, epochs=4, batch_size=512)\n",
    "\n",
    "# Evaluate model on test set\n",
    "results = model.evaluate(x_test, y_test)"
   ]
  },
  {
   "cell_type": "markdown",
   "metadata": {},
   "source": [
    "### Using a trained network to generate predictions on new data"
   ]
  },
  {
   "cell_type": "code",
   "execution_count": 30,
   "metadata": {},
   "outputs": [
    {
     "data": {
      "text/plain": [
       "array([[0.16345815],\n",
       "       [0.99992156],\n",
       "       [0.7760556 ],\n",
       "       ...,\n",
       "       [0.08794662],\n",
       "       [0.07405253],\n",
       "       [0.47649908]], dtype=float32)"
      ]
     },
     "execution_count": 30,
     "metadata": {},
     "output_type": "execute_result"
    }
   ],
   "source": [
    "model.predict(x_test)"
   ]
  },
  {
   "cell_type": "markdown",
   "metadata": {},
   "source": [
    "# Further experiments"
   ]
  },
  {
   "cell_type": "code",
   "execution_count": 31,
   "metadata": {},
   "outputs": [
    {
     "name": "stdout",
     "output_type": "stream",
     "text": [
      "Train on 25000 samples\n",
      "Epoch 1/4\n",
      "25000/25000 [==============================] - 5s 203us/sample - loss: 0.4742 - accuracy: 0.8154\n",
      "Epoch 2/4\n",
      "25000/25000 [==============================] - 4s 177us/sample - loss: 0.2604 - accuracy: 0.9078\n",
      "Epoch 3/4\n",
      "25000/25000 [==============================] - 4s 169us/sample - loss: 0.1968 - accuracy: 0.9285\n",
      "Epoch 4/4\n",
      "25000/25000 [==============================] - 4s 172us/sample - loss: 0.1617 - accuracy: 0.9412\n",
      "25000/25000 [==============================] - 6s 231us/sample - loss: 0.3281 - accuracy: 0.8739\n"
     ]
    }
   ],
   "source": [
    "# Adding a third Dense layer\n",
    "model = Sequential()\n",
    "model.add(Dense(16, activation='relu', input_shape=(10000,)))\n",
    "model.add(Dense(16, activation='relu'))\n",
    "model.add(Dense(16, activation='relu'))\n",
    "model.add(Dense(1, activation='sigmoid'))\n",
    "\n",
    "# Compile model\n",
    "model.compile(optimizer='rmsprop', loss='binary_crossentropy', metrics=['accuracy'])\n",
    "\n",
    "# Train the model\n",
    "model.fit(x_train, y_train, epochs=4, batch_size=512)\n",
    "\n",
    "# Evaluate model on test set\n",
    "results = model.evaluate(x_test, y_test)"
   ]
  },
  {
   "cell_type": "code",
   "execution_count": 32,
   "metadata": {},
   "outputs": [
    {
     "name": "stdout",
     "output_type": "stream",
     "text": [
      "Train on 25000 samples\n",
      "Epoch 1/4\n",
      "25000/25000 [==============================] - 7s 285us/sample - loss: 0.4401 - accuracy: 0.8116\n",
      "Epoch 2/4\n",
      "25000/25000 [==============================] - 5s 213us/sample - loss: 0.2415 - accuracy: 0.9104\n",
      "Epoch 3/4\n",
      "25000/25000 [==============================] - 5s 197us/sample - loss: 0.1861 - accuracy: 0.9305\n",
      "Epoch 4/4\n",
      "25000/25000 [==============================] - 5s 188us/sample - loss: 0.1570 - accuracy: 0.9432\n",
      "25000/25000 [==============================] - 6s 239us/sample - loss: 0.3161 - accuracy: 0.8806\n"
     ]
    }
   ],
   "source": [
    "# Increasing number of output neurons\n",
    "model = Sequential()\n",
    "model.add(Dense(32, activation='relu', input_shape=(10000,)))\n",
    "model.add(Dense(32, activation='relu'))\n",
    "model.add(Dense(32, activation='relu'))\n",
    "model.add(Dense(1, activation='sigmoid'))\n",
    "\n",
    "# Compile model\n",
    "model.compile(optimizer='rmsprop', loss='binary_crossentropy', metrics=['accuracy'])\n",
    "\n",
    "# Train the model\n",
    "model.fit(x_train, y_train, epochs=4, batch_size=512)\n",
    "\n",
    "# Evaluate model on test set\n",
    "results = model.evaluate(x_test, y_test)"
   ]
  },
  {
   "cell_type": "code",
   "execution_count": 33,
   "metadata": {},
   "outputs": [
    {
     "name": "stdout",
     "output_type": "stream",
     "text": [
      "Train on 25000 samples\n",
      "Epoch 1/4\n",
      "25000/25000 [==============================] - 5s 191us/sample - loss: 0.4889 - accuracy: 0.7782\n",
      "Epoch 2/4\n",
      "25000/25000 [==============================] - 4s 168us/sample - loss: 0.2282 - accuracy: 0.9178\n",
      "Epoch 3/4\n",
      "25000/25000 [==============================] - 5s 182us/sample - loss: 0.1622 - accuracy: 0.9441\n",
      "Epoch 4/4\n",
      "25000/25000 [==============================] - 4s 173us/sample - loss: 0.1260 - accuracy: 0.9572\n",
      "25000/25000 [==============================] - 5s 211us/sample - loss: 0.3479 - accuracy: 0.8742\n"
     ]
    }
   ],
   "source": [
    "# Changing the optimizer to adam\n",
    "model = Sequential()\n",
    "model.add(Dense(16, activation='relu', input_shape=(10000,)))\n",
    "model.add(Dense(16, activation='relu'))\n",
    "model.add(Dense(16, activation='relu'))\n",
    "model.add(Dense(1, activation='sigmoid'))\n",
    "\n",
    "# Compile model\n",
    "model.compile(optimizer='adam', loss='binary_crossentropy', metrics=['accuracy'])\n",
    "\n",
    "# Train the model\n",
    "model.fit(x_train, y_train, epochs=4, batch_size=512)\n",
    "\n",
    "# Evaluate model on test set\n",
    "results = model.evaluate(x_test, y_test)"
   ]
  },
  {
   "cell_type": "code",
   "execution_count": 34,
   "metadata": {},
   "outputs": [
    {
     "name": "stdout",
     "output_type": "stream",
     "text": [
      "Train on 25000 samples\n",
      "Epoch 1/4\n",
      "25000/25000 [==============================] - 5s 187us/sample - loss: 0.1811 - accuracy: 0.7945\n",
      "Epoch 2/4\n",
      "25000/25000 [==============================] - 5s 183us/sample - loss: 0.0749 - accuracy: 0.9094\n",
      "Epoch 3/4\n",
      "25000/25000 [==============================] - 5s 184us/sample - loss: 0.0499 - accuracy: 0.9403\n",
      "Epoch 4/4\n",
      "25000/25000 [==============================] - 4s 180us/sample - loss: 0.0371 - accuracy: 0.9588 - loss: 0.0361 - accu\n",
      "25000/25000 [==============================] - 6s 250us/sample - loss: 0.0915 - accuracy: 0.8772\n"
     ]
    }
   ],
   "source": [
    "# Changing the loss function\n",
    "# Changing the optimizer to adam\n",
    "model = Sequential()\n",
    "model.add(Dense(16, activation='relu', input_shape=(10000,)))\n",
    "model.add(Dense(16, activation='relu'))\n",
    "model.add(Dense(16, activation='relu'))\n",
    "model.add(Dense(1, activation='sigmoid'))\n",
    "\n",
    "# Compile model\n",
    "model.compile(optimizer='adam', loss='mse', metrics=['accuracy'])\n",
    "\n",
    "# Train the model\n",
    "model.fit(x_train, y_train, epochs=4, batch_size=512)\n",
    "\n",
    "# Evaluate model on test set\n",
    "results = model.evaluate(x_test, y_test)"
   ]
  },
  {
   "cell_type": "code",
   "execution_count": 44,
   "metadata": {},
   "outputs": [
    {
     "name": "stdout",
     "output_type": "stream",
     "text": [
      "Train on 25000 samples\n",
      "Epoch 1/4\n",
      "25000/25000 [==============================] - 6s 220us/sample - loss: 0.6086 - accuracy: 0.7763\n",
      "Epoch 2/4\n",
      "25000/25000 [==============================] - 4s 173us/sample - loss: 0.3775 - accuracy: 0.8872\n",
      "Epoch 3/4\n",
      "25000/25000 [==============================] - 4s 164us/sample - loss: 0.2534 - accuracy: 0.9153\n",
      "Epoch 4/4\n",
      "25000/25000 [==============================] - 4s 167us/sample - loss: 0.2001 - accuracy: 0.9308\n",
      "25000/25000 [==============================] - 6s 227us/sample - loss: 0.2839 - accuracy: 0.8866\n"
     ]
    }
   ],
   "source": [
    "model = Sequential()\n",
    "model.add(Dense(8, activation='relu', input_shape=(10000,)))\n",
    "model.add(Dense(8, activation='relu'))\n",
    "model.add(Dense(8, activation='relu'))\n",
    "model.add(Dense(1, activation='sigmoid'))\n",
    "\n",
    "# Compile model\n",
    "model.compile(optimizer='rmsprop', loss='binary_crossentropy', metrics=['accuracy'])\n",
    "\n",
    "# Train the model\n",
    "model.fit(x_train, y_train, epochs=4, batch_size=512)\n",
    "\n",
    "# Evaluate model on test set\n",
    "results = model.evaluate(x_test, y_test)"
   ]
  },
  {
   "cell_type": "code",
   "execution_count": 47,
   "metadata": {},
   "outputs": [
    {
     "name": "stdout",
     "output_type": "stream",
     "text": [
      "Train on 25000 samples\n",
      "Epoch 1/4\n",
      "25000/25000 [==============================] - 6s 223us/sample - loss: 0.5743 - accuracy: 0.7989\n",
      "Epoch 2/4\n",
      "25000/25000 [==============================] - 5s 194us/sample - loss: 0.3159 - accuracy: 0.9050\n",
      "Epoch 3/4\n",
      "25000/25000 [==============================] - 5s 195us/sample - loss: 0.2160 - accuracy: 0.9255\n",
      "Epoch 4/4\n",
      "25000/25000 [==============================] - 5s 190us/sample - loss: 0.1756 - accuracy: 0.9377\n",
      "25000/25000 [==============================] - 6s 225us/sample - loss: 0.2918 - accuracy: 0.8857\n"
     ]
    }
   ],
   "source": [
    "model = Sequential()\n",
    "model.add(Dense(8, activation='relu', input_shape=(10000,)))\n",
    "model.add(Dense(8, activation='relu'))\n",
    "model.add(Dense(8, activation='relu'))\n",
    "model.add(Dense(1, activation='sigmoid'))\n",
    "\n",
    "# Compile model\n",
    "model.compile(optimizer='rmsprop', loss='binary_crossentropy', metrics=['accuracy'])\n",
    "\n",
    "# Train the model\n",
    "model.fit(x_train, y_train, epochs=4, batch_size=256)\n",
    "\n",
    "# Evaluate model on test set\n",
    "results = model.evaluate(x_test, y_test)"
   ]
  },
  {
   "cell_type": "code",
   "execution_count": null,
   "metadata": {},
   "outputs": [],
   "source": []
  },
  {
   "cell_type": "code",
   "execution_count": null,
   "metadata": {},
   "outputs": [],
   "source": []
  }
 ],
 "metadata": {
  "kernelspec": {
   "display_name": "u4-s3-ds11",
   "language": "python",
   "name": "u4-s3-ds11"
  },
  "language_info": {
   "codemirror_mode": {
    "name": "ipython",
    "version": 3
   },
   "file_extension": ".py",
   "mimetype": "text/x-python",
   "name": "python",
   "nbconvert_exporter": "python",
   "pygments_lexer": "ipython3",
   "version": "3.7.0"
  }
 },
 "nbformat": 4,
 "nbformat_minor": 4
}

{
 "cells": [
  {
   "cell_type": "code",
   "execution_count": 1,
   "metadata": {},
   "outputs": [],
   "source": [
    "from tensorflow.keras.datasets import boston_housing"
   ]
  },
  {
   "cell_type": "code",
   "execution_count": 2,
   "metadata": {},
   "outputs": [],
   "source": [
    "# Load data\n",
    "(train_data, train_targets), (test_data, test_targets) = boston_housing.load_data()"
   ]
  },
  {
   "cell_type": "code",
   "execution_count": 3,
   "metadata": {},
   "outputs": [
    {
     "data": {
      "text/plain": [
       "(404, 13)"
      ]
     },
     "execution_count": 3,
     "metadata": {},
     "output_type": "execute_result"
    }
   ],
   "source": [
    "# Inspect data\n",
    "train_data.shape"
   ]
  },
  {
   "cell_type": "code",
   "execution_count": 4,
   "metadata": {},
   "outputs": [
    {
     "data": {
      "text/plain": [
       "(102, 13)"
      ]
     },
     "execution_count": 4,
     "metadata": {},
     "output_type": "execute_result"
    }
   ],
   "source": [
    "test_data.shape"
   ]
  },
  {
   "cell_type": "code",
   "execution_count": 6,
   "metadata": {},
   "outputs": [
    {
     "data": {
      "text/plain": [
       "array([15.2, 42.3, 50. , 21.1, 17.7])"
      ]
     },
     "execution_count": 6,
     "metadata": {},
     "output_type": "execute_result"
    }
   ],
   "source": [
    "# Inspect training labels\n",
    "train_targets[:5]"
   ]
  },
  {
   "cell_type": "markdown",
   "metadata": {},
   "source": [
    "# Preparing the Data\n",
    "\n",
    "It would be problematic to feed into a neural network values that all take wildly different ranges. The network might be able to automatically adapt to such heterogeneous data, but it would definitely make learning more difficult. A widespread best practice to deal with such data is to do feature-wise normalization.\n",
    "\n",
    "- For each feature in the input data (a column in the input data matrix), you subtract the mean of the feature and divide by the standard deviation, so that the feature is centered around 0 and has a unit stanrd deviation. This easily done in Numpy."
   ]
  },
  {
   "cell_type": "code",
   "execution_count": 7,
   "metadata": {},
   "outputs": [],
   "source": [
    "# Normalizing the data\n",
    "mean = train_data.mean(axis=0)\n",
    "train_data -= mean\n",
    "std = train_data.std(axis=0)\n",
    "train_data /= std\n",
    "\n",
    "test_data -= mean\n",
    "test_data /= std"
   ]
  },
  {
   "cell_type": "code",
   "execution_count": 8,
   "metadata": {},
   "outputs": [],
   "source": [
    "# Building the network\n",
    "\n",
    "from tensorflow.keras.models import Sequential\n",
    "from tensorflow.keras.layers import Dense"
   ]
  },
  {
   "cell_type": "code",
   "execution_count": 9,
   "metadata": {},
   "outputs": [],
   "source": [
    "def build_model():\n",
    "    model = Sequential()\n",
    "    model.add(Dense(64, activation='relu', input_shape=(train_data.shape[1],)))\n",
    "    model.add(Dense(64, activation='relu'))\n",
    "    model.add(Dense(1))\n",
    "    model.compile(optimizer='adam', loss='mse', metrics=['mae'])\n",
    "    return model"
   ]
  },
  {
   "cell_type": "markdown",
   "metadata": {},
   "source": [
    "### Note:\n",
    "\n",
    "The network ends with a single unit and no activation (it will be a linear layer). This is\n",
    "a typical setup for scalar regression (a regression where you’re trying to predict a single\n",
    "continuous value). Applying an activation function would constrain the range the output\n",
    "can take. Here, because the last\n",
    "layer is purely linear, the network is free to learn to predict values in any range."
   ]
  },
  {
   "cell_type": "code",
   "execution_count": 10,
   "metadata": {},
   "outputs": [],
   "source": [
    "# K-fold validation\n",
    "\n",
    "import numpy as np\n",
    "\n",
    "k = 4\n",
    "num_val_samples = len(train_data) // k\n",
    "num_epochs = 100\n",
    "all_scores = []"
   ]
  },
  {
   "cell_type": "code",
   "execution_count": 11,
   "metadata": {},
   "outputs": [
    {
     "name": "stdout",
     "output_type": "stream",
     "text": [
      "processing fold #0\n",
      "processing fold #1\n",
      "processing fold #2\n",
      "processing fold #3\n"
     ]
    }
   ],
   "source": [
    "for i in range(k):\n",
    "    print(f'processing fold #{i}')\n",
    "    # Prepares the validation data: data from partition #k\n",
    "    val_data = train_data[i * num_val_samples: (i + 1) * num_val_samples]\n",
    "    val_targets = train_targets[i * num_val_samples: (i + 1) * num_val_samples]\n",
    "    \n",
    "    # Prepares the training data: data from all other partitions\n",
    "    partial_train_data = np.concatenate(\n",
    "        [train_data[:i * num_val_samples],\n",
    "         train_data[(i + 1) * num_val_samples:]],\n",
    "        axis=0)\n",
    "    partial_train_targets = np.concatenate(\n",
    "        [train_targets[:i * num_val_samples],\n",
    "         train_targets[(i + 1) * num_val_samples:]],\n",
    "        axis=0)\n",
    "    \n",
    "    # Builds the Keras model (already compiled)\n",
    "    model = build_model()\n",
    "    \n",
    "    # Trains the model (in silent mode, verbose=0)\n",
    "    model.fit(partial_train_data, partial_train_targets, epochs=num_epochs, batch_size=1, verbose=0)\n",
    "    \n",
    "    # Evaluates the model on the validation data\n",
    "    val_mse, val_mae = model.evaluate(val_data, val_targets, verbose=0)\n",
    "    all_scores.append(val_mae)"
   ]
  },
  {
   "cell_type": "code",
   "execution_count": 12,
   "metadata": {},
   "outputs": [
    {
     "data": {
      "text/plain": [
       "[2.0780966, 2.8664227, 2.4396489, 2.4008832]"
      ]
     },
     "execution_count": 12,
     "metadata": {},
     "output_type": "execute_result"
    }
   ],
   "source": [
    "all_scores"
   ]
  },
  {
   "cell_type": "code",
   "execution_count": 13,
   "metadata": {},
   "outputs": [
    {
     "data": {
      "text/plain": [
       "2.4462628"
      ]
     },
     "execution_count": 13,
     "metadata": {},
     "output_type": "execute_result"
    }
   ],
   "source": [
    "# Average of mae scores\n",
    "np.mean(all_scores)"
   ]
  },
  {
   "cell_type": "markdown",
   "metadata": {},
   "source": [
    "### Saving the validation logs at each fold"
   ]
  },
  {
   "cell_type": "code",
   "execution_count": 20,
   "metadata": {},
   "outputs": [
    {
     "name": "stdout",
     "output_type": "stream",
     "text": [
      "processing fold #0\n",
      "processing fold #1\n",
      "processing fold #2\n",
      "processing fold #3\n"
     ]
    }
   ],
   "source": [
    "num_epochs = 500\n",
    "all_mae_histories = []\n",
    "\n",
    "for i in range(k):\n",
    "    # Prepares the validation data: data from partition #k\n",
    "    print(f'processing fold #{i}')\n",
    "    val_data = train_data[i * num_val_samples: (i + 1) * num_val_samples]\n",
    "    val_targets = train_targets[i * num_val_samples: (i + 1) * num_val_samples]\n",
    "    \n",
    "    # Prepares the training data: data from all other partitions\n",
    "    partial_train_data = np.concatenate(\n",
    "        [train_data[:i * num_val_samples],\n",
    "         train_data[(i + 1) * num_val_samples:]],\n",
    "        axis=0)\n",
    "    \n",
    "    partial_train_targets = np.concatenate(\n",
    "        [train_targets[:i * num_val_samples],\n",
    "         train_targets[(i + 1) * num_val_samples:]],\n",
    "        axis=0)\n",
    "    \n",
    "    # Builds the Keras model (already compiled)\n",
    "    model = build_model()\n",
    "    \n",
    "    # Trains the model (in silent mode, verbose=0)\n",
    "    history = model.fit(partial_train_data, partial_train_targets,\n",
    "                        validation_data=(val_data, val_targets),\n",
    "                        epochs=num_epochs, batch_size=1, verbose=0)\n",
    "    mae_history = history.history['val_mae']\n",
    "    all_mae_histories.append(mae_history)"
   ]
  },
  {
   "cell_type": "code",
   "execution_count": 19,
   "metadata": {},
   "outputs": [
    {
     "data": {
      "text/plain": [
       "dict_keys(['loss', 'mae', 'val_loss', 'val_mae'])"
      ]
     },
     "execution_count": 19,
     "metadata": {},
     "output_type": "execute_result"
    }
   ],
   "source": [
    "history.history.keys()"
   ]
  },
  {
   "cell_type": "code",
   "execution_count": 21,
   "metadata": {},
   "outputs": [],
   "source": [
    "# Building the history of successive mean K-fold validation scores\n",
    "average_mae_history = [\n",
    "    np.mean([x[i] for x in all_mae_histories]) for i in range(num_epochs)]"
   ]
  },
  {
   "cell_type": "code",
   "execution_count": 22,
   "metadata": {},
   "outputs": [
    {
     "data": {
      "image/png": "[encoded data removed]",
      "text/plain": [
       "<Figure size 432x288 with 1 Axes>"
      ]
     },
     "metadata": {
      "needs_background": "light"
     },
     "output_type": "display_data"
    }
   ],
   "source": [
    "# Plotting validation scores\n",
    "\n",
    "import matplotlib.pyplot as plt\n",
    "\n",
    "plt.plot(range(1, len(average_mae_history) + 1), average_mae_history)\n",
    "plt.xlabel('Epochs')\n",
    "plt.ylabel('Validation MAE')\n",
    "plt.show()"
   ]
  },
  {
   "cell_type": "markdown",
   "metadata": {},
   "source": [
    "### Note:\n",
    "\n",
    "It may be a little difficult to see the plot, due to scaling issues and relatively high variance. Let's do the following:\n",
    "\n",
    "- Omit the first 10 data points, which are on a different scale than the rest of the curve.\n",
    "- REplace each point with an exponential moving average of the previous points, to obtain a smooth curve."
   ]
  },
  {
   "cell_type": "code",
   "execution_count": 23,
   "metadata": {},
   "outputs": [
    {
     "data": {
      "image/png": "[encoded data removed]",
      "text/plain": [
       "<Figure size 432x288 with 1 Axes>"
      ]
     },
     "metadata": {
      "needs_background": "light"
     },
     "output_type": "display_data"
    }
   ],
   "source": [
    "# Plotting validation scores, excluding the first 10 data points\n",
    "def smooth_curve(points, factor=0.9):\n",
    "    smoothed_points = []\n",
    "    for point in points:\n",
    "        if smoothed_points:\n",
    "            previous = smoothed_points[-1]\n",
    "            smoothed_points.append(previous * factor + point * (1 - factor))\n",
    "        else:\n",
    "            smoothed_points.append(point)\n",
    "    return smoothed_points\n",
    "\n",
    "# Removing the first 10 data points\n",
    "smooth_mae_history = smooth_curve(average_mae_history[10:])\n",
    "\n",
    "# Plotting the smoothed curve\n",
    "plt.plot(range(1, len(smooth_mae_history) + 1), smooth_mae_history)\n",
    "plt.xlabel('Epochs')\n",
    "plt.ylabel('Validation MAE')\n",
    "plt.show()"
   ]
  },
  {
   "cell_type": "code",
   "execution_count": 25,
   "metadata": {},
   "outputs": [
    {
     "name": "stdout",
     "output_type": "stream",
     "text": [
      "Train on 404 samples\n",
      "Epoch 1/120\n",
      "404/404 [==============================] - 0s 1ms/sample - loss: 544.5853 - mae: 21.5147\n",
      "Epoch 2/120\n",
      "404/404 [==============================] - 0s 205us/sample - loss: 407.6229 - mae: 18.1414\n",
      "Epoch 3/120\n",
      "404/404 [==============================] - 0s 161us/sample - loss: 201.6647 - mae: 11.7193\n",
      "Epoch 4/120\n",
      "404/404 [==============================] - 0s 196us/sample - loss: 71.7274 - mae: 6.2943\n",
      "Epoch 5/120\n",
      "404/404 [==============================] - 0s 197us/sample - loss: 42.9655 - mae: 4.7177\n",
      "Epoch 6/120\n",
      "404/404 [==============================] - 0s 236us/sample - loss: 30.5727 - mae: 3.8907\n",
      "Epoch 7/120\n",
      "404/404 [==============================] - 0s 136us/sample - loss: 25.8082 - mae: 3.5680\n",
      "Epoch 8/120\n",
      "404/404 [==============================] - 0s 166us/sample - loss: 22.9057 - mae: 3.3798\n",
      "Epoch 9/120\n",
      "404/404 [==============================] - 0s 176us/sample - loss: 20.9094 - mae: 3.3030\n",
      "Epoch 10/120\n",
      "404/404 [==============================] - 0s 191us/sample - loss: 19.3687 - mae: 3.1441\n",
      "Epoch 11/120\n",
      "404/404 [==============================] - 0s 317us/sample - loss: 17.8974 - mae: 2.9873\n",
      "Epoch 12/120\n",
      "404/404 [==============================] - 0s 230us/sample - loss: 16.6241 - mae: 2.9148\n",
      "Epoch 13/120\n",
      "404/404 [==============================] - 0s 180us/sample - loss: 15.5759 - mae: 2.8463\n",
      "Epoch 14/120\n",
      "404/404 [==============================] - 0s 245us/sample - loss: 14.7059 - mae: 2.7295\n",
      "Epoch 15/120\n",
      "404/404 [==============================] - 0s 183us/sample - loss: 13.8818 - mae: 2.6456\n",
      "Epoch 16/120\n",
      "404/404 [==============================] - 0s 280us/sample - loss: 13.3204 - mae: 2.6123\n",
      "Epoch 17/120\n",
      "404/404 [==============================] - 0s 148us/sample - loss: 12.8802 - mae: 2.5189\n",
      "Epoch 18/120\n",
      "404/404 [==============================] - 0s 198us/sample - loss: 12.5519 - mae: 2.5705\n",
      "Epoch 19/120\n",
      "404/404 [==============================] - 0s 183us/sample - loss: 11.8539 - mae: 2.4374\n",
      "Epoch 20/120\n",
      "404/404 [==============================] - 0s 228us/sample - loss: 11.2661 - mae: 2.4170\n",
      "Epoch 21/120\n",
      "404/404 [==============================] - 0s 262us/sample - loss: 10.9876 - mae: 2.3493\n",
      "Epoch 22/120\n",
      "404/404 [==============================] - 0s 149us/sample - loss: 10.6845 - mae: 2.3630\n",
      "Epoch 23/120\n",
      "404/404 [==============================] - 0s 186us/sample - loss: 10.3702 - mae: 2.3129\n",
      "Epoch 24/120\n",
      "404/404 [==============================] - 0s 200us/sample - loss: 10.2283 - mae: 2.3013\n",
      "Epoch 25/120\n",
      "404/404 [==============================] - 0s 220us/sample - loss: 10.0455 - mae: 2.2737\n",
      "Epoch 26/120\n",
      "404/404 [==============================] - 0s 250us/sample - loss: 9.7508 - mae: 2.2306\n",
      "Epoch 27/120\n",
      "404/404 [==============================] - 0s 287us/sample - loss: 9.5008 - mae: 2.2098\n",
      "Epoch 28/120\n",
      "404/404 [==============================] - 0s 241us/sample - loss: 9.4713 - mae: 2.1907\n",
      "Epoch 29/120\n",
      "404/404 [==============================] - 0s 173us/sample - loss: 9.3261 - mae: 2.1911\n",
      "Epoch 30/120\n",
      "404/404 [==============================] - 0s 200us/sample - loss: 9.1447 - mae: 2.1843\n",
      "Epoch 31/120\n",
      "404/404 [==============================] - 0s 233us/sample - loss: 9.0595 - mae: 2.1415\n",
      "Epoch 32/120\n",
      "404/404 [==============================] - 0s 168us/sample - loss: 9.2071 - mae: 2.1917\n",
      "Epoch 33/120\n",
      "404/404 [==============================] - 0s 183us/sample - loss: 8.8718 - mae: 2.1470\n",
      "Epoch 34/120\n",
      "404/404 [==============================] - 0s 292us/sample - loss: 8.8167 - mae: 2.1459\n",
      "Epoch 35/120\n",
      "404/404 [==============================] - 0s 252us/sample - loss: 8.8542 - mae: 2.1035\n",
      "Epoch 36/120\n",
      "404/404 [==============================] - 0s 182us/sample - loss: 8.4936 - mae: 2.0708\n",
      "Epoch 37/120\n",
      "404/404 [==============================] - 0s 285us/sample - loss: 8.5490 - mae: 2.0810\n",
      "Epoch 38/120\n",
      "404/404 [==============================] - 0s 205us/sample - loss: 8.3577 - mae: 2.0592\n",
      "Epoch 39/120\n",
      "404/404 [==============================] - 0s 243us/sample - loss: 8.2944 - mae: 2.0571\n",
      "Epoch 40/120\n",
      "404/404 [==============================] - ETA: 0s - loss: 6.8718 - mae: 1.9267 - 0s 208us/sample - loss: 8.2068 - mae: 2.0381\n",
      "Epoch 41/120\n",
      "404/404 [==============================] - 0s 255us/sample - loss: 8.0616 - mae: 2.0155\n",
      "Epoch 42/120\n",
      "404/404 [==============================] - 0s 258us/sample - loss: 8.1913 - mae: 2.0242\n",
      "Epoch 43/120\n",
      "404/404 [==============================] - 0s 180us/sample - loss: 7.8506 - mae: 1.9862\n",
      "Epoch 44/120\n",
      "404/404 [==============================] - 0s 218us/sample - loss: 7.9098 - mae: 2.0027\n",
      "Epoch 45/120\n",
      "404/404 [==============================] - 0s 262us/sample - loss: 7.7742 - mae: 1.9843\n",
      "Epoch 46/120\n",
      "404/404 [==============================] - 0s 262us/sample - loss: 7.8983 - mae: 1.9943\n",
      "Epoch 47/120\n",
      "404/404 [==============================] - 0s 230us/sample - loss: 7.6333 - mae: 1.9702\n",
      "Epoch 48/120\n",
      "404/404 [==============================] - 0s 255us/sample - loss: 7.6037 - mae: 1.9669\n",
      "Epoch 49/120\n",
      "404/404 [==============================] - 0s 203us/sample - loss: 7.6946 - mae: 1.9645\n",
      "Epoch 50/120\n",
      "404/404 [==============================] - 0s 257us/sample - loss: 7.4698 - mae: 1.9287\n",
      "Epoch 51/120\n",
      "404/404 [==============================] - 0s 222us/sample - loss: 7.3498 - mae: 1.9421\n",
      "Epoch 52/120\n",
      "404/404 [==============================] - 0s 220us/sample - loss: 7.3384 - mae: 1.9203\n",
      "Epoch 53/120\n",
      "404/404 [==============================] - 0s 226us/sample - loss: 7.0858 - mae: 1.8764\n",
      "Epoch 54/120\n",
      "404/404 [==============================] - 0s 230us/sample - loss: 7.1130 - mae: 1.9047\n",
      "Epoch 55/120\n",
      "404/404 [==============================] - 0s 315us/sample - loss: 7.0151 - mae: 1.8886\n",
      "Epoch 56/120\n",
      "404/404 [==============================] - 0s 220us/sample - loss: 7.0930 - mae: 1.8942\n",
      "Epoch 57/120\n",
      "404/404 [==============================] - 0s 210us/sample - loss: 6.9756 - mae: 1.8656\n",
      "Epoch 58/120\n",
      "404/404 [==============================] - 0s 247us/sample - loss: 7.0242 - mae: 1.8836\n",
      "Epoch 59/120\n",
      "404/404 [==============================] - 0s 153us/sample - loss: 7.1861 - mae: 1.9112\n",
      "Epoch 60/120\n",
      "404/404 [==============================] - 0s 163us/sample - loss: 6.8632 - mae: 1.8706\n",
      "Epoch 61/120\n",
      "404/404 [==============================] - 0s 193us/sample - loss: 6.7345 - mae: 1.8311\n",
      "Epoch 62/120\n",
      "404/404 [==============================] - 0s 218us/sample - loss: 6.8770 - mae: 1.8959\n",
      "Epoch 63/120\n",
      "404/404 [==============================] - 0s 200us/sample - loss: 6.5644 - mae: 1.8244\n",
      "Epoch 64/120\n",
      "404/404 [==============================] - 0s 289us/sample - loss: 6.5806 - mae: 1.8169\n",
      "Epoch 65/120\n",
      "404/404 [==============================] - 0s 267us/sample - loss: 6.4619 - mae: 1.8002\n",
      "Epoch 66/120\n",
      "404/404 [==============================] - 0s 265us/sample - loss: 6.4478 - mae: 1.7981\n",
      "Epoch 67/120\n",
      "404/404 [==============================] - 0s 174us/sample - loss: 6.6277 - mae: 1.8557\n",
      "Epoch 68/120\n",
      "404/404 [==============================] - 0s 225us/sample - loss: 6.4698 - mae: 1.8002\n",
      "Epoch 69/120\n",
      "404/404 [==============================] - 0s 260us/sample - loss: 6.3459 - mae: 1.7795\n",
      "Epoch 70/120\n",
      "404/404 [==============================] - 0s 250us/sample - loss: 6.3726 - mae: 1.7982\n",
      "Epoch 71/120\n",
      "404/404 [==============================] - 0s 267us/sample - loss: 6.5631 - mae: 1.8204\n",
      "Epoch 72/120\n",
      "404/404 [==============================] - 0s 283us/sample - loss: 6.3154 - mae: 1.7998\n",
      "Epoch 73/120\n",
      "404/404 [==============================] - 0s 248us/sample - loss: 6.1730 - mae: 1.7792\n",
      "Epoch 74/120\n",
      "404/404 [==============================] - 0s 310us/sample - loss: 6.1185 - mae: 1.7543\n",
      "Epoch 75/120\n",
      "404/404 [==============================] - 0s 324us/sample - loss: 6.1559 - mae: 1.7697\n",
      "Epoch 76/120\n",
      "404/404 [==============================] - 0s 166us/sample - loss: 6.3576 - mae: 1.8040\n",
      "Epoch 77/120\n",
      "404/404 [==============================] - 0s 188us/sample - loss: 6.2240 - mae: 1.7847\n",
      "Epoch 78/120\n",
      "404/404 [==============================] - 0s 248us/sample - loss: 5.9500 - mae: 1.7367\n",
      "Epoch 79/120\n",
      "404/404 [==============================] - 0s 252us/sample - loss: 5.9111 - mae: 1.7318\n",
      "Epoch 80/120\n",
      "404/404 [==============================] - 0s 193us/sample - loss: 5.8951 - mae: 1.7087\n",
      "Epoch 81/120\n"
     ]
    },
    {
     "name": "stdout",
     "output_type": "stream",
     "text": [
      "404/404 [==============================] - 0s 225us/sample - loss: 5.8487 - mae: 1.7323\n",
      "Epoch 82/120\n",
      "404/404 [==============================] - 0s 227us/sample - loss: 5.7935 - mae: 1.7180\n",
      "Epoch 83/120\n",
      "404/404 [==============================] - 0s 176us/sample - loss: 5.8055 - mae: 1.7306\n",
      "Epoch 84/120\n",
      "404/404 [==============================] - 0s 158us/sample - loss: 5.6981 - mae: 1.7058\n",
      "Epoch 85/120\n",
      "404/404 [==============================] - 0s 200us/sample - loss: 5.7359 - mae: 1.7158\n",
      "Epoch 86/120\n",
      "404/404 [==============================] - 0s 225us/sample - loss: 5.5650 - mae: 1.7043\n",
      "Epoch 87/120\n",
      "404/404 [==============================] - 0s 161us/sample - loss: 5.6085 - mae: 1.6955\n",
      "Epoch 88/120\n",
      "404/404 [==============================] - 0s 168us/sample - loss: 5.6750 - mae: 1.7052\n",
      "Epoch 89/120\n",
      "404/404 [==============================] - 0s 158us/sample - loss: 5.4393 - mae: 1.6661\n",
      "Epoch 90/120\n",
      "404/404 [==============================] - 0s 161us/sample - loss: 5.4500 - mae: 1.6578\n",
      "Epoch 91/120\n",
      "404/404 [==============================] - 0s 161us/sample - loss: 5.5623 - mae: 1.6895\n",
      "Epoch 92/120\n",
      "404/404 [==============================] - ETA: 0s - loss: 6.3511 - mae: 1.793 - 0s 280us/sample - loss: 5.4277 - mae: 1.6708\n",
      "Epoch 93/120\n",
      "404/404 [==============================] - 0s 315us/sample - loss: 5.3392 - mae: 1.6389\n",
      "Epoch 94/120\n",
      "404/404 [==============================] - 0s 316us/sample - loss: 5.3077 - mae: 1.6514\n",
      "Epoch 95/120\n",
      "404/404 [==============================] - 0s 245us/sample - loss: 5.1962 - mae: 1.6398\n",
      "Epoch 96/120\n",
      "404/404 [==============================] - 0s 256us/sample - loss: 5.2211 - mae: 1.6210\n",
      "Epoch 97/120\n",
      "404/404 [==============================] - 0s 196us/sample - loss: 5.2590 - mae: 1.6310\n",
      "Epoch 98/120\n",
      "404/404 [==============================] - 0s 248us/sample - loss: 5.3293 - mae: 1.6208\n",
      "Epoch 99/120\n",
      "404/404 [==============================] - 0s 248us/sample - loss: 5.2698 - mae: 1.6449\n",
      "Epoch 100/120\n",
      "404/404 [==============================] - 0s 238us/sample - loss: 5.3271 - mae: 1.6652\n",
      "Epoch 101/120\n",
      "404/404 [==============================] - 0s 317us/sample - loss: 5.5083 - mae: 1.6727\n",
      "Epoch 102/120\n",
      "404/404 [==============================] - 0s 295us/sample - loss: 5.0768 - mae: 1.6124\n",
      "Epoch 103/120\n",
      "404/404 [==============================] - 0s 244us/sample - loss: 5.0262 - mae: 1.6046\n",
      "Epoch 104/120\n",
      "404/404 [==============================] - 0s 178us/sample - loss: 5.2142 - mae: 1.6480\n",
      "Epoch 105/120\n",
      "404/404 [==============================] - 0s 158us/sample - loss: 5.0552 - mae: 1.5992\n",
      "Epoch 106/120\n",
      "404/404 [==============================] - 0s 200us/sample - loss: 5.0667 - mae: 1.6135\n",
      "Epoch 107/120\n",
      "404/404 [==============================] - 0s 206us/sample - loss: 5.0543 - mae: 1.6240\n",
      "Epoch 108/120\n",
      "404/404 [==============================] - 0s 270us/sample - loss: 5.0680 - mae: 1.6246s - loss: 5.4668 - mae: 1.686\n",
      "Epoch 109/120\n",
      "404/404 [==============================] - 0s 350us/sample - loss: 4.9150 - mae: 1.5832\n",
      "Epoch 110/120\n",
      "404/404 [==============================] - 0s 213us/sample - loss: 4.9609 - mae: 1.5879\n",
      "Epoch 111/120\n",
      "404/404 [==============================] - 0s 192us/sample - loss: 4.8519 - mae: 1.5796\n",
      "Epoch 112/120\n",
      "404/404 [==============================] - 0s 183us/sample - loss: 4.8073 - mae: 1.5769\n",
      "Epoch 113/120\n",
      "404/404 [==============================] - 0s 273us/sample - loss: 4.7689 - mae: 1.5263\n",
      "Epoch 114/120\n",
      "404/404 [==============================] - 0s 339us/sample - loss: 4.7462 - mae: 1.5416\n",
      "Epoch 115/120\n",
      "404/404 [==============================] - 0s 299us/sample - loss: 4.6677 - mae: 1.5543\n",
      "Epoch 116/120\n",
      "404/404 [==============================] - 0s 208us/sample - loss: 4.7440 - mae: 1.5606\n",
      "Epoch 117/120\n",
      "404/404 [==============================] - 0s 202us/sample - loss: 4.7159 - mae: 1.5472\n",
      "Epoch 118/120\n",
      "404/404 [==============================] - 0s 171us/sample - loss: 4.7438 - mae: 1.5507\n",
      "Epoch 119/120\n",
      "404/404 [==============================] - 0s 186us/sample - loss: 4.9109 - mae: 1.5709\n",
      "Epoch 120/120\n",
      "404/404 [==============================] - 0s 223us/sample - loss: 4.9071 - mae: 1.6096\n",
      "102/102 [==============================] - 0s 4ms/sample - loss: 17.8685 - mae: 2.7234\n"
     ]
    },
    {
     "data": {
      "text/plain": [
       "2.7233753"
      ]
     },
     "execution_count": 25,
     "metadata": {},
     "output_type": "execute_result"
    }
   ],
   "source": [
    "# Training the final model\n",
    "model = build_model()\n",
    "model.fit(train_data, train_targets, epochs=120, batch_size=16)\n",
    "test_mse_score, test_mae_score = model.evaluate(test_data, test_targets)\n",
    "\n",
    "test_mae_score"
   ]
  }
 ],
 "metadata": {
  "kernelspec": {
   "display_name": "u4-s3-ds11",
   "language": "python",
   "name": "u4-s3-ds11"
  },
  "language_info": {
   "codemirror_mode": {
    "name": "ipython",
    "version": 3
   },
   "file_extension": ".py",
   "mimetype": "text/x-python",
   "name": "python",
   "nbconvert_exporter": "python",
   "pygments_lexer": "ipython3",
   "version": "3.7.0"
  }
 },
 "nbformat": 4,
 "nbformat_minor": 4
}

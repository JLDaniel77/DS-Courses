{
 "cells": [
  {
   "cell_type": "code",
   "execution_count": 1,
   "metadata": {},
   "outputs": [],
   "source": [
    "from tensorflow.keras.datasets import reuters"
   ]
  },
  {
   "cell_type": "code",
   "execution_count": 2,
   "metadata": {},
   "outputs": [],
   "source": [
    "# Import data\n",
    "(train_data, train_labels), (test_data, test_labels) = reuters.load_data(num_words=10000)"
   ]
  },
  {
   "cell_type": "code",
   "execution_count": 3,
   "metadata": {},
   "outputs": [
    {
     "data": {
      "text/plain": [
       "(8982, 2246)"
      ]
     },
     "execution_count": 3,
     "metadata": {},
     "output_type": "execute_result"
    }
   ],
   "source": [
    "# Inspect data\n",
    "len(train_data), len(test_data)"
   ]
  },
  {
   "cell_type": "code",
   "execution_count": 4,
   "metadata": {},
   "outputs": [
    {
     "data": {
      "text/plain": [
       "[1,\n",
       " 245,\n",
       " 273,\n",
       " 207,\n",
       " 156,\n",
       " 53,\n",
       " 74,\n",
       " 160,\n",
       " 26,\n",
       " 14,\n",
       " 46,\n",
       " 296,\n",
       " 26,\n",
       " 39,\n",
       " 74,\n",
       " 2979,\n",
       " 3554,\n",
       " 14,\n",
       " 46,\n",
       " 4689,\n",
       " 4329,\n",
       " 86,\n",
       " 61,\n",
       " 3499,\n",
       " 4795,\n",
       " 14,\n",
       " 61,\n",
       " 451,\n",
       " 4329,\n",
       " 17,\n",
       " 12]"
      ]
     },
     "execution_count": 4,
     "metadata": {},
     "output_type": "execute_result"
    }
   ],
   "source": [
    "# As with the IMDB reviews, each example is a list of integers (word indicies)\n",
    "train_data[10]"
   ]
  },
  {
   "cell_type": "code",
   "execution_count": 7,
   "metadata": {},
   "outputs": [],
   "source": [
    "# Decoding newswires back to text\n",
    "word_index = reuters.get_word_index()\n",
    "reverse_word_index = dict([(value, key) for (key, value) in word_index.items()])\n",
    "# The indices are offset by 3 because 0, 1, and 2 are reserved indices for \"padding\", \"start of sequence\", and \"unknown\"\n",
    "decoded_newswire = ' '.join([reverse_word_index.get(i - 3, '?') for i in train_data[10]])"
   ]
  },
  {
   "cell_type": "code",
   "execution_count": 8,
   "metadata": {},
   "outputs": [
    {
     "data": {
      "text/plain": [
       "'? period ended december 31 shr profit 11 cts vs loss 24 cts net profit 224 271 vs loss 511 349 revs 7 258 688 vs 7 200 349 reuter 3'"
      ]
     },
     "execution_count": 8,
     "metadata": {},
     "output_type": "execute_result"
    }
   ],
   "source": [
    "decoded_newswire"
   ]
  },
  {
   "cell_type": "code",
   "execution_count": 10,
   "metadata": {},
   "outputs": [
    {
     "data": {
      "text/plain": [
       "3"
      ]
     },
     "execution_count": 10,
     "metadata": {},
     "output_type": "execute_result"
    }
   ],
   "source": [
    "# The label associated with an example is an integer between 0 and 45\n",
    "train_labels[10]"
   ]
  },
  {
   "cell_type": "markdown",
   "metadata": {},
   "source": [
    "### Preparing the data"
   ]
  },
  {
   "cell_type": "code",
   "execution_count": 11,
   "metadata": {},
   "outputs": [],
   "source": [
    "import numpy as np"
   ]
  },
  {
   "cell_type": "code",
   "execution_count": 13,
   "metadata": {},
   "outputs": [],
   "source": [
    "def vectorize_sequences(sequences, dimension=10000):\n",
    "    results = np.zeros((len(sequences), dimension))\n",
    "    for i, sequence in enumerate(sequences):\n",
    "        results[i, sequence] = 1.\n",
    "    return results\n",
    "\n",
    "# Vectorize the train and test data\n",
    "x_train = vectorize_sequences(train_data)\n",
    "x_test = vectorize_sequences(test_data)"
   ]
  },
  {
   "cell_type": "markdown",
   "metadata": {},
   "source": [
    "### Vectorize the labels\n",
    "\n",
    "To vectorize the labels, there are two possibilities:\n",
    "\n",
    "- You can cast the label list as an integer tensor\n",
    "- Or, one-hot encode the labels\n",
    "\n",
    "### note:\n",
    "\n",
    "- One-hot encoding is a widely used format for categorical data, also called categorical encoding. In this case, one-hot encoding of the labels consists of embedding each label as an all-zero vector with a one in the place of the label index."
   ]
  },
  {
   "cell_type": "code",
   "execution_count": 14,
   "metadata": {},
   "outputs": [],
   "source": [
    "# Manual one-hot encoding\n",
    "def to_one_hot(labels, dimension=46):\n",
    "    results = np.zeros((len(labels), dimension))\n",
    "    for i, label in enumerate(labels):\n",
    "        results[i, label] = 1.\n",
    "    return results\n",
    "\n",
    "# one_hot_train_labels = to_one_hot(train_labels)\n",
    "# one_hot_test_labels = to_one_hot(test_labels)"
   ]
  },
  {
   "cell_type": "code",
   "execution_count": 16,
   "metadata": {},
   "outputs": [],
   "source": [
    "# Using keras to one-hot encode the labels\n",
    "\n",
    "from tensorflow.keras.utils import to_categorical\n",
    "\n",
    "one_hot_train_labels = to_categorical(train_labels)\n",
    "one_hot_test_labels = to_categorical(test_labels)"
   ]
  },
  {
   "cell_type": "code",
   "execution_count": 17,
   "metadata": {},
   "outputs": [],
   "source": [
    "from tensorflow.keras.models import Sequential\n",
    "from tensorflow.keras.layers import Dense"
   ]
  },
  {
   "cell_type": "code",
   "execution_count": 18,
   "metadata": {},
   "outputs": [],
   "source": [
    "# Building the network\n",
    "model = Sequential()\n",
    "model.add(Dense(64, activation='relu', input_shape=(10000,)))\n",
    "model.add(Dense(64, activation='relu'))\n",
    "model.add(Dense(46, activation='softmax'))"
   ]
  },
  {
   "cell_type": "code",
   "execution_count": 19,
   "metadata": {},
   "outputs": [],
   "source": [
    "# Compile the model\n",
    "model.compile(optimizer='rmsprop', loss='categorical_crossentropy', metrics=['accuracy'])"
   ]
  },
  {
   "cell_type": "code",
   "execution_count": 20,
   "metadata": {},
   "outputs": [],
   "source": [
    "# Setting aside a validation set\n",
    "x_val = x_train[:1000]\n",
    "partial_x_train = x_train[1000:]\n",
    "\n",
    "y_val = one_hot_train_labels[:1000]\n",
    "partial_y_train = one_hot_train_labels[1000:]"
   ]
  },
  {
   "cell_type": "code",
   "execution_count": 21,
   "metadata": {},
   "outputs": [
    {
     "name": "stdout",
     "output_type": "stream",
     "text": [
      "Train on 7982 samples, validate on 1000 samples\n",
      "Epoch 1/20\n",
      "7982/7982 [==============================] - 3s 423us/sample - loss: 2.5966 - accuracy: 0.5219 - val_loss: 1.6883 - val_accuracy: 0.6390\n",
      "Epoch 2/20\n",
      "7982/7982 [==============================] - 2s 264us/sample - loss: 1.4126 - accuracy: 0.7082 - val_loss: 1.2897 - val_accuracy: 0.7160\n",
      "Epoch 3/20\n",
      "7982/7982 [==============================] - 2s 253us/sample - loss: 1.0634 - accuracy: 0.7732 - val_loss: 1.1583 - val_accuracy: 0.7490\n",
      "Epoch 4/20\n",
      "7982/7982 [==============================] - 2s 277us/sample - loss: 0.8472 - accuracy: 0.8212 - val_loss: 1.0664 - val_accuracy: 0.7640\n",
      "Epoch 5/20\n",
      "7982/7982 [==============================] - 2s 305us/sample - loss: 0.6726 - accuracy: 0.8612 - val_loss: 0.9859 - val_accuracy: 0.7920\n",
      "Epoch 6/20\n",
      "7982/7982 [==============================] - 2s 282us/sample - loss: 0.5367 - accuracy: 0.8889 - val_loss: 0.9267 - val_accuracy: 0.8080\n",
      "Epoch 7/20\n",
      "7982/7982 [==============================] - 2s 261us/sample - loss: 0.4254 - accuracy: 0.9113 - val_loss: 0.9106 - val_accuracy: 0.8120\n",
      "Epoch 8/20\n",
      "7982/7982 [==============================] - 2s 249us/sample - loss: 0.3460 - accuracy: 0.9275 - val_loss: 0.8829 - val_accuracy: 0.8070\n",
      "Epoch 9/20\n",
      "7982/7982 [==============================] - 2s 267us/sample - loss: 0.2875 - accuracy: 0.9371 - val_loss: 0.9031 - val_accuracy: 0.8080\n",
      "Epoch 10/20\n",
      "7982/7982 [==============================] - 2s 261us/sample - loss: 0.2403 - accuracy: 0.9448 - val_loss: 0.9075 - val_accuracy: 0.8030\n",
      "Epoch 11/20\n",
      "7982/7982 [==============================] - 2s 250us/sample - loss: 0.2043 - accuracy: 0.9490 - val_loss: 0.9021 - val_accuracy: 0.8100\n",
      "Epoch 12/20\n",
      "7982/7982 [==============================] - 2s 265us/sample - loss: 0.1836 - accuracy: 0.9519 - val_loss: 0.9209 - val_accuracy: 0.8110\n",
      "Epoch 13/20\n",
      "7982/7982 [==============================] - 2s 271us/sample - loss: 0.1622 - accuracy: 0.9538 - val_loss: 0.9449 - val_accuracy: 0.8140\n",
      "Epoch 14/20\n",
      "7982/7982 [==============================] - 2s 279us/sample - loss: 0.1516 - accuracy: 0.9536 - val_loss: 0.9677 - val_accuracy: 0.7960\n",
      "Epoch 15/20\n",
      "7982/7982 [==============================] - 2s 264us/sample - loss: 0.1413 - accuracy: 0.9568 - val_loss: 1.0672 - val_accuracy: 0.7930\n",
      "Epoch 16/20\n",
      "7982/7982 [==============================] - 2s 295us/sample - loss: 0.1292 - accuracy: 0.9569 - val_loss: 1.0192 - val_accuracy: 0.8120\n",
      "Epoch 17/20\n",
      "7982/7982 [==============================] - 2s 251us/sample - loss: 0.1267 - accuracy: 0.9555 - val_loss: 1.1235 - val_accuracy: 0.7880\n",
      "Epoch 18/20\n",
      "7982/7982 [==============================] - 2s 264us/sample - loss: 0.1213 - accuracy: 0.9564 - val_loss: 1.0263 - val_accuracy: 0.8030\n",
      "Epoch 19/20\n",
      "7982/7982 [==============================] - 2s 266us/sample - loss: 0.1148 - accuracy: 0.9572 - val_loss: 1.0239 - val_accuracy: 0.8120\n",
      "Epoch 20/20\n",
      "7982/7982 [==============================] - 2s 251us/sample - loss: 0.1161 - accuracy: 0.9558 - val_loss: 1.0514 - val_accuracy: 0.8060\n"
     ]
    }
   ],
   "source": [
    "# Training the model\n",
    "history = model.fit(partial_x_train, partial_y_train, epochs=20, batch_size=512,\n",
    "                    validation_data=(x_val, y_val))"
   ]
  },
  {
   "cell_type": "code",
   "execution_count": 22,
   "metadata": {},
   "outputs": [
    {
     "data": {
      "image/png": "[encoded data removed]",
      "text/plain": [
       "<Figure size 432x288 with 1 Axes>"
      ]
     },
     "metadata": {
      "needs_background": "light"
     },
     "output_type": "display_data"
    }
   ],
   "source": [
    "# Plotting the training and validation loss\n",
    "import matplotlib.pyplot as plt\n",
    "\n",
    "loss = history.history['loss']\n",
    "val_loss = history.history['val_loss']\n",
    "\n",
    "epochs = range(1, len(loss) + 1)\n",
    "\n",
    "plt.plot(epochs, loss, 'bo', label='Training loss')\n",
    "plt.plot(epochs, val_loss, 'b', label='Validation loss')\n",
    "plt.title('Training and validation loss')\n",
    "plt.xlabel('Epochs')\n",
    "plt.ylabel('Loss')\n",
    "plt.legend()\n",
    "\n",
    "plt.show()"
   ]
  },
  {
   "cell_type": "code",
   "execution_count": 23,
   "metadata": {},
   "outputs": [
    {
     "data": {
      "image/png": "[encoded data removed]",
      "text/plain": [
       "<Figure size 432x288 with 1 Axes>"
      ]
     },
     "metadata": {
      "needs_background": "light"
     },
     "output_type": "display_data"
    }
   ],
   "source": [
    "# Plotting the training and validation accuracy\n",
    "\n",
    "acc = history.history['accuracy']\n",
    "val_acc = history.history['val_accuracy']\n",
    "\n",
    "plt.plot(epochs, acc, 'bo', label='Training acc')\n",
    "plt.plot(epochs, val_acc, 'b', label='Validation acc')\n",
    "plt.title('Training and validation accuracy')\n",
    "plt.xlabel('Epochs')\n",
    "plt.ylabel('Loss')\n",
    "plt.legend()\n",
    "\n",
    "plt.show()"
   ]
  },
  {
   "cell_type": "markdown",
   "metadata": {},
   "source": [
    "# Retraining a model from scratch"
   ]
  },
  {
   "cell_type": "code",
   "execution_count": 24,
   "metadata": {},
   "outputs": [
    {
     "name": "stdout",
     "output_type": "stream",
     "text": [
      "Train on 7982 samples, validate on 1000 samples\n",
      "Epoch 1/9\n",
      "7982/7982 [==============================] - 3s 389us/sample - loss: 2.6437 - accuracy: 0.5256 - val_loss: 1.7399 - val_accuracy: 0.6440\n",
      "Epoch 2/9\n",
      "7982/7982 [==============================] - 2s 241us/sample - loss: 1.4265 - accuracy: 0.7008 - val_loss: 1.2837 - val_accuracy: 0.7190\n",
      "Epoch 3/9\n",
      "7982/7982 [==============================] - 2s 248us/sample - loss: 1.0395 - accuracy: 0.7844 - val_loss: 1.1205 - val_accuracy: 0.7720\n",
      "Epoch 4/9\n",
      "7982/7982 [==============================] - 2s 241us/sample - loss: 0.8093 - accuracy: 0.8304 - val_loss: 1.0078 - val_accuracy: 0.7900\n",
      "Epoch 5/9\n",
      "7982/7982 [==============================] - 2s 236us/sample - loss: 0.6416 - accuracy: 0.8695 - val_loss: 0.9299 - val_accuracy: 0.8110\n",
      "Epoch 6/9\n",
      "7982/7982 [==============================] - 2s 241us/sample - loss: 0.5119 - accuracy: 0.8950 - val_loss: 0.8918 - val_accuracy: 0.8140\n",
      "Epoch 7/9\n",
      "7982/7982 [==============================] - 2s 237us/sample - loss: 0.4101 - accuracy: 0.9147 - val_loss: 0.8728 - val_accuracy: 0.8250\n",
      "Epoch 8/9\n",
      "7982/7982 [==============================] - 2s 236us/sample - loss: 0.3373 - accuracy: 0.9283 - val_loss: 0.8623 - val_accuracy: 0.8280\n",
      "Epoch 9/9\n",
      "7982/7982 [==============================] - 2s 230us/sample - loss: 0.2809 - accuracy: 0.9379 - val_loss: 0.8816 - val_accuracy: 0.8180\n",
      "2246/2246 [==============================] - 1s 341us/sample - loss: 0.9744 - accuracy: 0.7916\n"
     ]
    }
   ],
   "source": [
    "model = Sequential()\n",
    "model.add(Dense(64, activation='relu', input_shape=(10000,)))\n",
    "model.add(Dense(64, activation='relu'))\n",
    "model.add(Dense(46, activation='softmax'))\n",
    "\n",
    "model.compile(optimizer='rmsprop', loss='categorical_crossentropy', metrics=['accuracy'])\n",
    "\n",
    "model.fit(partial_x_train, partial_y_train, epochs=9, batch_size=512,\n",
    "          validation_data=(x_val, y_val))\n",
    "\n",
    "results = model.evaluate(x_test, one_hot_test_labels)"
   ]
  },
  {
   "cell_type": "code",
   "execution_count": 25,
   "metadata": {},
   "outputs": [
    {
     "data": {
      "text/plain": [
       "0.18432769367764915"
      ]
     },
     "execution_count": 25,
     "metadata": {},
     "output_type": "execute_result"
    }
   ],
   "source": [
    "# Random baseline\n",
    "\n",
    "import copy\n",
    "\n",
    "test_labels_copy = copy.copy(test_labels)\n",
    "np.random.shuffle(test_labels_copy)\n",
    "hits_array = np.array(test_labels) == np.array(test_labels_copy)\n",
    "float(np.sum(hits_array)) / len(test_labels)"
   ]
  },
  {
   "cell_type": "code",
   "execution_count": 26,
   "metadata": {},
   "outputs": [],
   "source": [
    "# Generating predictions for new data\n",
    "predictions = model.predict(x_test)"
   ]
  },
  {
   "cell_type": "code",
   "execution_count": 27,
   "metadata": {},
   "outputs": [
    {
     "data": {
      "text/plain": [
       "(46,)"
      ]
     },
     "execution_count": 27,
     "metadata": {},
     "output_type": "execute_result"
    }
   ],
   "source": [
    "# Each entry in predictions is a vector of length 46 (since 46 classes)\n",
    "predictions[0].shape"
   ]
  },
  {
   "cell_type": "code",
   "execution_count": 28,
   "metadata": {},
   "outputs": [
    {
     "data": {
      "text/plain": [
       "0.9999999"
      ]
     },
     "execution_count": 28,
     "metadata": {},
     "output_type": "execute_result"
    }
   ],
   "source": [
    "# The coefficients in this vector sum to 1\n",
    "np.sum(predictions[0])"
   ]
  },
  {
   "cell_type": "code",
   "execution_count": 29,
   "metadata": {},
   "outputs": [
    {
     "data": {
      "text/plain": [
       "3"
      ]
     },
     "execution_count": 29,
     "metadata": {},
     "output_type": "execute_result"
    }
   ],
   "source": [
    "# The largest entry in the predicted class - the class with the highest probability\n",
    "np.argmax(predictions[0])"
   ]
  },
  {
   "cell_type": "markdown",
   "metadata": {},
   "source": [
    "# A different way to handle the labels and the loss"
   ]
  },
  {
   "cell_type": "code",
   "execution_count": 30,
   "metadata": {},
   "outputs": [],
   "source": [
    "y_train = np.array(train_labels)\n",
    "y_test = np.array(test_labels)"
   ]
  },
  {
   "cell_type": "markdown",
   "metadata": {},
   "source": [
    "### Note:\n",
    "\n",
    "The only thing this approach would change is the choice of loss function. The loss function in the previous example, categorical_crossentropy, expects the labels to follow a categorical encoding. With integer labels, you should use sparce_categorical_crossentropy"
   ]
  },
  {
   "cell_type": "code",
   "execution_count": 31,
   "metadata": {},
   "outputs": [],
   "source": [
    "model.compile(optimizer='rmsprop', loss='sparse_categorical_crossentropy', metrics=['accuracy'])"
   ]
  },
  {
   "cell_type": "markdown",
   "metadata": {},
   "source": [
    "### Note:\n",
    "\n",
    "This loss function is still mathematically the same as categorical_crossentropy; it just has a different interface."
   ]
  },
  {
   "cell_type": "markdown",
   "metadata": {},
   "source": [
    "### The importance of having sufficiently large intermediate layers\n",
    "\n",
    "We mentioned earlier that because the final outputs are 46-dimensional, you should avoid intermediate layers with many fewer than 46 hidden units. Now let's see what happens when you introduce an information bottleneck by having intermediate layers that are significantly less than 46-dimensional: for example, 4-dimensional"
   ]
  },
  {
   "cell_type": "code",
   "execution_count": 32,
   "metadata": {},
   "outputs": [
    {
     "name": "stdout",
     "output_type": "stream",
     "text": [
      "Train on 7982 samples, validate on 1000 samples\n",
      "Epoch 1/20\n",
      "7982/7982 [==============================] - 4s 474us/sample - loss: 3.1754 - accuracy: 0.0709 - val_loss: 2.5157 - val_accuracy: 0.3690\n",
      "Epoch 2/20\n",
      "7982/7982 [==============================] - 3s 417us/sample - loss: 2.1149 - accuracy: 0.4218 - val_loss: 1.8621 - val_accuracy: 0.5580\n",
      "Epoch 3/20\n",
      "7982/7982 [==============================] - 3s 430us/sample - loss: 1.6569 - accuracy: 0.5832 - val_loss: 1.6329 - val_accuracy: 0.5740\n",
      "Epoch 4/20\n",
      "7982/7982 [==============================] - 4s 453us/sample - loss: 1.4378 - accuracy: 0.5927 - val_loss: 1.5096 - val_accuracy: 0.5890\n",
      "Epoch 5/20\n",
      "7982/7982 [==============================] - 4s 447us/sample - loss: 1.2818 - accuracy: 0.6267 - val_loss: 1.4551 - val_accuracy: 0.6180\n",
      "Epoch 6/20\n",
      "7982/7982 [==============================] - 4s 455us/sample - loss: 1.1439 - accuracy: 0.6719 - val_loss: 1.3790 - val_accuracy: 0.6610\n",
      "Epoch 7/20\n",
      "7982/7982 [==============================] - 4s 468us/sample - loss: 1.0031 - accuracy: 0.7420 - val_loss: 1.3465 - val_accuracy: 0.7080\n",
      "Epoch 8/20\n",
      "7982/7982 [==============================] - 4s 468us/sample - loss: 0.8956 - accuracy: 0.7784 - val_loss: 1.3412 - val_accuracy: 0.7170\n",
      "Epoch 9/20\n",
      "7982/7982 [==============================] - 3s 402us/sample - loss: 0.8112 - accuracy: 0.8007 - val_loss: 1.3560 - val_accuracy: 0.7140\n",
      "Epoch 10/20\n",
      "7982/7982 [==============================] - 3s 384us/sample - loss: 0.7393 - accuracy: 0.8170 - val_loss: 1.4020 - val_accuracy: 0.7140\n",
      "Epoch 11/20\n",
      "7982/7982 [==============================] - 3s 390us/sample - loss: 0.6781 - accuracy: 0.8312 - val_loss: 1.4232 - val_accuracy: 0.7130\n",
      "Epoch 12/20\n",
      "7982/7982 [==============================] - 3s 376us/sample - loss: 0.6279 - accuracy: 0.8426 - val_loss: 1.4269 - val_accuracy: 0.7170\n",
      "Epoch 13/20\n",
      "7982/7982 [==============================] - 3s 399us/sample - loss: 0.5848 - accuracy: 0.8524 - val_loss: 1.4768 - val_accuracy: 0.7220\n",
      "Epoch 14/20\n",
      "7982/7982 [==============================] - 3s 399us/sample - loss: 0.5460 - accuracy: 0.8561 - val_loss: 1.5409 - val_accuracy: 0.7120\n",
      "Epoch 15/20\n",
      "7982/7982 [==============================] - 3s 393us/sample - loss: 0.5148 - accuracy: 0.8633 - val_loss: 1.5831 - val_accuracy: 0.7170\n",
      "Epoch 16/20\n",
      "7982/7982 [==============================] - 3s 426us/sample - loss: 0.4866 - accuracy: 0.8686 - val_loss: 1.6211 - val_accuracy: 0.7130\n",
      "Epoch 17/20\n",
      "7982/7982 [==============================] - 3s 428us/sample - loss: 0.4612 - accuracy: 0.8731 - val_loss: 1.7113 - val_accuracy: 0.6980\n",
      "Epoch 18/20\n",
      "7982/7982 [==============================] - 3s 401us/sample - loss: 0.4337 - accuracy: 0.8810 - val_loss: 1.7648 - val_accuracy: 0.7030\n",
      "Epoch 19/20\n",
      "7982/7982 [==============================] - 3s 411us/sample - loss: 0.4160 - accuracy: 0.8864 - val_loss: 1.7776 - val_accuracy: 0.6990\n",
      "Epoch 20/20\n",
      "7982/7982 [==============================] - 3s 393us/sample - loss: 0.3949 - accuracy: 0.8911 - val_loss: 1.8645 - val_accuracy: 0.7080\n"
     ]
    },
    {
     "data": {
      "text/plain": [
       "<tensorflow.python.keras.callbacks.History at 0x26f1c5b4f28>"
      ]
     },
     "execution_count": 32,
     "metadata": {},
     "output_type": "execute_result"
    }
   ],
   "source": [
    "# A model with an informational bottleneck\n",
    "\n",
    "model = Sequential()\n",
    "model.add(Dense(64, activation='relu', input_shape=(10000,)))\n",
    "model.add(Dense(4, activation='relu'))\n",
    "model.add(Dense(46, activation='softmax'))\n",
    "\n",
    "model.compile(optimizer='rmsprop', loss='categorical_crossentropy', metrics=['accuracy'])\n",
    "\n",
    "model.fit(partial_x_train, partial_y_train, epochs=20, batch_size=128,\n",
    "          validation_data=(x_val, y_val))"
   ]
  },
  {
   "cell_type": "markdown",
   "metadata": {},
   "source": [
    "# Further experiments"
   ]
  },
  {
   "cell_type": "code",
   "execution_count": 33,
   "metadata": {},
   "outputs": [
    {
     "name": "stdout",
     "output_type": "stream",
     "text": [
      "Train on 7982 samples, validate on 1000 samples\n",
      "Epoch 1/20\n",
      "7982/7982 [==============================] - 4s 474us/sample - loss: 1.8034 - accuracy: 0.6525 - val_loss: 1.1738 - val_accuracy: 0.7480\n",
      "Epoch 2/20\n",
      "7982/7982 [==============================] - 3s 433us/sample - loss: 0.9191 - accuracy: 0.8043 - val_loss: 0.9525 - val_accuracy: 0.8080\n",
      "Epoch 3/20\n",
      "7982/7982 [==============================] - 3s 436us/sample - loss: 0.6274 - accuracy: 0.8731 - val_loss: 0.8476 - val_accuracy: 0.8280\n",
      "Epoch 4/20\n",
      "7982/7982 [==============================] - 3s 427us/sample - loss: 0.4488 - accuracy: 0.9080 - val_loss: 0.8039 - val_accuracy: 0.8290\n",
      "Epoch 5/20\n",
      "7982/7982 [==============================] - 4s 445us/sample - loss: 0.3357 - accuracy: 0.9266 - val_loss: 0.7938 - val_accuracy: 0.8320\n",
      "Epoch 6/20\n",
      "7982/7982 [==============================] - 4s 469us/sample - loss: 0.2604 - accuracy: 0.9394 - val_loss: 0.8334 - val_accuracy: 0.8200\n",
      "Epoch 7/20\n",
      "7982/7982 [==============================] - 3s 424us/sample - loss: 0.2148 - accuracy: 0.9470 - val_loss: 0.8500 - val_accuracy: 0.8270\n",
      "Epoch 8/20\n",
      "7982/7982 [==============================] - 3s 425us/sample - loss: 0.1807 - accuracy: 0.9495 - val_loss: 0.8634 - val_accuracy: 0.8240\n",
      "Epoch 9/20\n",
      "7982/7982 [==============================] - 3s 423us/sample - loss: 0.1616 - accuracy: 0.9528 - val_loss: 0.8871 - val_accuracy: 0.8190\n",
      "Epoch 10/20\n",
      "7982/7982 [==============================] - 3s 409us/sample - loss: 0.1449 - accuracy: 0.9559 - val_loss: 0.9287 - val_accuracy: 0.8270\n",
      "Epoch 11/20\n",
      "7982/7982 [==============================] - 3s 420us/sample - loss: 0.1385 - accuracy: 0.9554 - val_loss: 0.9342 - val_accuracy: 0.8160\n",
      "Epoch 12/20\n",
      "7982/7982 [==============================] - 3s 411us/sample - loss: 0.1291 - accuracy: 0.9560 - val_loss: 0.9753 - val_accuracy: 0.8110\n",
      "Epoch 13/20\n",
      "7982/7982 [==============================] - 3s 401us/sample - loss: 0.1195 - accuracy: 0.9572 - val_loss: 0.9921 - val_accuracy: 0.8100\n",
      "Epoch 14/20\n",
      "7982/7982 [==============================] - 3s 428us/sample - loss: 0.1175 - accuracy: 0.9554 - val_loss: 1.0572 - val_accuracy: 0.8050\n",
      "Epoch 15/20\n",
      "7982/7982 [==============================] - 4s 443us/sample - loss: 0.1132 - accuracy: 0.9565 - val_loss: 1.0377 - val_accuracy: 0.8150\n",
      "Epoch 16/20\n",
      "7982/7982 [==============================] - 3s 401us/sample - loss: 0.1093 - accuracy: 0.9572 - val_loss: 1.1066 - val_accuracy: 0.8010\n",
      "Epoch 17/20\n",
      "7982/7982 [==============================] - 3s 409us/sample - loss: 0.1074 - accuracy: 0.9582 - val_loss: 1.1243 - val_accuracy: 0.7990\n",
      "Epoch 18/20\n",
      "7982/7982 [==============================] - 3s 399us/sample - loss: 0.1072 - accuracy: 0.9577 - val_loss: 1.1740 - val_accuracy: 0.7910\n",
      "Epoch 19/20\n",
      "7982/7982 [==============================] - 3s 409us/sample - loss: 0.1032 - accuracy: 0.9590 - val_loss: 1.1422 - val_accuracy: 0.8060\n",
      "Epoch 20/20\n",
      "7982/7982 [==============================] - 3s 408us/sample - loss: 0.1046 - accuracy: 0.9580 - val_loss: 1.1739 - val_accuracy: 0.8050\n"
     ]
    },
    {
     "data": {
      "text/plain": [
       "<tensorflow.python.keras.callbacks.History at 0x26f1ca469b0>"
      ]
     },
     "execution_count": 33,
     "metadata": {},
     "output_type": "execute_result"
    }
   ],
   "source": [
    "# Model with only 1 hidden layer\n",
    "model = Sequential()\n",
    "model.add(Dense(64, activation='relu', input_shape=(10000,)))\n",
    "model.add(Dense(46, activation='softmax'))\n",
    "\n",
    "model.compile(optimizer='rmsprop', loss='categorical_crossentropy', metrics=['accuracy'])\n",
    "\n",
    "model.fit(partial_x_train, partial_y_train, epochs=20, batch_size=128,\n",
    "          validation_data=(x_val, y_val))"
   ]
  },
  {
   "cell_type": "code",
   "execution_count": 34,
   "metadata": {},
   "outputs": [
    {
     "name": "stdout",
     "output_type": "stream",
     "text": [
      "Train on 7982 samples, validate on 1000 samples\n",
      "Epoch 1/20\n",
      "7982/7982 [==============================] - 4s 524us/sample - loss: 1.8253 - accuracy: 0.6181 - val_loss: 1.2544 - val_accuracy: 0.7170\n",
      "Epoch 2/20\n",
      "7982/7982 [==============================] - 4s 465us/sample - loss: 0.9703 - accuracy: 0.7883 - val_loss: 1.0120 - val_accuracy: 0.7740\n",
      "Epoch 3/20\n",
      "7982/7982 [==============================] - 4s 449us/sample - loss: 0.6532 - accuracy: 0.8579 - val_loss: 0.9611 - val_accuracy: 0.7930\n",
      "Epoch 4/20\n",
      "7982/7982 [==============================] - 3s 422us/sample - loss: 0.4554 - accuracy: 0.9017 - val_loss: 0.8753 - val_accuracy: 0.8200\n",
      "Epoch 5/20\n",
      "7982/7982 [==============================] - 3s 436us/sample - loss: 0.3256 - accuracy: 0.9288 - val_loss: 0.8874 - val_accuracy: 0.8130\n",
      "Epoch 6/20\n",
      "7982/7982 [==============================] - 3s 413us/sample - loss: 0.2553 - accuracy: 0.9427 - val_loss: 0.9427 - val_accuracy: 0.8120\n",
      "Epoch 7/20\n",
      "7982/7982 [==============================] - 3s 397us/sample - loss: 0.2060 - accuracy: 0.9483 - val_loss: 0.9375 - val_accuracy: 0.8180\n",
      "Epoch 8/20\n",
      "7982/7982 [==============================] - 3s 388us/sample - loss: 0.1804 - accuracy: 0.9511 - val_loss: 0.9721 - val_accuracy: 0.8220\n",
      "Epoch 9/20\n",
      "7982/7982 [==============================] - 3s 393us/sample - loss: 0.1628 - accuracy: 0.9534 - val_loss: 1.0065 - val_accuracy: 0.8130\n",
      "Epoch 10/20\n",
      "7982/7982 [==============================] - 3s 429us/sample - loss: 0.1499 - accuracy: 0.9564 - val_loss: 1.0333 - val_accuracy: 0.8200\n",
      "Epoch 11/20\n",
      "7982/7982 [==============================] - 3s 434us/sample - loss: 0.1404 - accuracy: 0.9569 - val_loss: 1.1055 - val_accuracy: 0.8090\n",
      "Epoch 12/20\n",
      "7982/7982 [==============================] - 3s 411us/sample - loss: 0.1323 - accuracy: 0.9567 - val_loss: 1.0966 - val_accuracy: 0.8030\n",
      "Epoch 13/20\n",
      "7982/7982 [==============================] - 3s 418us/sample - loss: 0.1305 - accuracy: 0.9549 - val_loss: 1.1991 - val_accuracy: 0.7930\n",
      "Epoch 14/20\n",
      "7982/7982 [==============================] - 3s 417us/sample - loss: 0.1235 - accuracy: 0.9554 - val_loss: 1.1015 - val_accuracy: 0.8050\n",
      "Epoch 15/20\n",
      "7982/7982 [==============================] - 3s 411us/sample - loss: 0.1239 - accuracy: 0.9565 - val_loss: 1.2031 - val_accuracy: 0.8010\n",
      "Epoch 16/20\n",
      "7982/7982 [==============================] - 4s 439us/sample - loss: 0.1147 - accuracy: 0.9575 - val_loss: 1.1987 - val_accuracy: 0.7960\n",
      "Epoch 17/20\n",
      "7982/7982 [==============================] - 3s 428us/sample - loss: 0.1146 - accuracy: 0.9573 - val_loss: 1.3007 - val_accuracy: 0.7780\n",
      "Epoch 18/20\n",
      "7982/7982 [==============================] - 3s 415us/sample - loss: 0.1115 - accuracy: 0.9564 - val_loss: 1.2544 - val_accuracy: 0.7930\n",
      "Epoch 19/20\n",
      "7982/7982 [==============================] - 3s 422us/sample - loss: 0.1108 - accuracy: 0.9551 - val_loss: 1.2709 - val_accuracy: 0.7920\n",
      "Epoch 20/20\n",
      "7982/7982 [==============================] - 3s 432us/sample - loss: 0.1031 - accuracy: 0.9577 - val_loss: 1.3552 - val_accuracy: 0.7960\n"
     ]
    },
    {
     "data": {
      "text/plain": [
       "<tensorflow.python.keras.callbacks.History at 0x26f1f597588>"
      ]
     },
     "execution_count": 34,
     "metadata": {},
     "output_type": "execute_result"
    }
   ],
   "source": [
    "# 2 hidden layers with 64 hidden units\n",
    "model = Sequential()\n",
    "model.add(Dense(64, activation='relu', input_shape=(10000,)))\n",
    "model.add(Dense(64, activation='relu'))\n",
    "model.add(Dense(46, activation='softmax'))\n",
    "\n",
    "model.compile(optimizer='rmsprop', loss='categorical_crossentropy', metrics=['accuracy'])\n",
    "\n",
    "model.fit(partial_x_train, partial_y_train, epochs=20, batch_size=128,\n",
    "          validation_data=(x_val, y_val))"
   ]
  },
  {
   "cell_type": "code",
   "execution_count": 35,
   "metadata": {},
   "outputs": [
    {
     "name": "stdout",
     "output_type": "stream",
     "text": [
      "Train on 7982 samples, validate on 1000 samples\n",
      "Epoch 1/20\n",
      "7982/7982 [==============================] - 5s 665us/sample - loss: 1.5500 - accuracy: 0.6726 - val_loss: 1.0698 - val_accuracy: 0.7610\n",
      "Epoch 2/20\n",
      "7982/7982 [==============================] - 5s 630us/sample - loss: 0.7427 - accuracy: 0.8400 - val_loss: 0.8856 - val_accuracy: 0.8180\n",
      "Epoch 3/20\n",
      "7982/7982 [==============================] - 5s 614us/sample - loss: 0.4466 - accuracy: 0.9050 - val_loss: 0.8581 - val_accuracy: 0.8190\n",
      "Epoch 4/20\n",
      "7982/7982 [==============================] - 5s 580us/sample - loss: 0.2879 - accuracy: 0.9361 - val_loss: 0.8612 - val_accuracy: 0.8260\n",
      "Epoch 5/20\n",
      "7982/7982 [==============================] - 5s 591us/sample - loss: 0.2262 - accuracy: 0.9466 - val_loss: 1.1224 - val_accuracy: 0.7830\n",
      "Epoch 6/20\n",
      "7982/7982 [==============================] - 5s 576us/sample - loss: 0.1926 - accuracy: 0.9503 - val_loss: 0.9076 - val_accuracy: 0.8120\n",
      "Epoch 7/20\n",
      "7982/7982 [==============================] - 5s 599us/sample - loss: 0.1683 - accuracy: 0.9530 - val_loss: 0.9539 - val_accuracy: 0.8090\n",
      "Epoch 8/20\n",
      "7982/7982 [==============================] - 5s 599us/sample - loss: 0.1514 - accuracy: 0.9543 - val_loss: 0.9736 - val_accuracy: 0.8070\n",
      "Epoch 9/20\n",
      "7982/7982 [==============================] - 5s 626us/sample - loss: 0.1398 - accuracy: 0.9558 - val_loss: 0.9660 - val_accuracy: 0.8090\n",
      "Epoch 10/20\n",
      "7982/7982 [==============================] - 5s 597us/sample - loss: 0.1275 - accuracy: 0.9557 - val_loss: 1.0693 - val_accuracy: 0.8010\n",
      "Epoch 11/20\n",
      "7982/7982 [==============================] - 5s 593us/sample - loss: 0.1255 - accuracy: 0.9549 - val_loss: 1.1856 - val_accuracy: 0.7910\n",
      "Epoch 12/20\n",
      "7982/7982 [==============================] - 5s 608us/sample - loss: 0.1172 - accuracy: 0.9565 - val_loss: 1.0636 - val_accuracy: 0.8110\n",
      "Epoch 13/20\n",
      "7982/7982 [==============================] - 5s 591us/sample - loss: 0.1126 - accuracy: 0.9535 - val_loss: 1.1427 - val_accuracy: 0.7950\n",
      "Epoch 14/20\n",
      "7982/7982 [==============================] - 5s 574us/sample - loss: 0.1070 - accuracy: 0.9553 - val_loss: 1.1233 - val_accuracy: 0.7970\n",
      "Epoch 15/20\n",
      "7982/7982 [==============================] - 5s 620us/sample - loss: 0.1005 - accuracy: 0.9555 - val_loss: 1.2589 - val_accuracy: 0.8040\n",
      "Epoch 16/20\n",
      "7982/7982 [==============================] - 5s 605us/sample - loss: 0.0962 - accuracy: 0.9549 - val_loss: 1.3338 - val_accuracy: 0.7920\n",
      "Epoch 17/20\n",
      "7982/7982 [==============================] - 5s 593us/sample - loss: 0.0941 - accuracy: 0.9572 - val_loss: 1.2869 - val_accuracy: 0.8020\n",
      "Epoch 18/20\n",
      "7982/7982 [==============================] - 5s 584us/sample - loss: 0.0910 - accuracy: 0.9568 - val_loss: 1.4072 - val_accuracy: 0.7950\n",
      "Epoch 19/20\n",
      "7982/7982 [==============================] - 5s 585us/sample - loss: 0.0868 - accuracy: 0.9585 - val_loss: 1.4612 - val_accuracy: 0.8030\n",
      "Epoch 20/20\n",
      "7982/7982 [==============================] - 5s 585us/sample - loss: 0.0843 - accuracy: 0.9570 - val_loss: 1.6840 - val_accuracy: 0.7900\n"
     ]
    },
    {
     "data": {
      "text/plain": [
       "<tensorflow.python.keras.callbacks.History at 0x26f1f8a4e10>"
      ]
     },
     "execution_count": 35,
     "metadata": {},
     "output_type": "execute_result"
    }
   ],
   "source": [
    "# 2 hidden layers with 128 hidden units\n",
    "model = Sequential()\n",
    "model.add(Dense(128, activation='relu', input_shape=(10000,)))\n",
    "model.add(Dense(128, activation='relu'))\n",
    "model.add(Dense(46, activation='softmax'))\n",
    "\n",
    "model.compile(optimizer='rmsprop', loss='categorical_crossentropy', metrics=['accuracy'])\n",
    "\n",
    "model.fit(partial_x_train, partial_y_train, epochs=20, batch_size=128,\n",
    "          validation_data=(x_val, y_val))"
   ]
  },
  {
   "cell_type": "code",
   "execution_count": 36,
   "metadata": {},
   "outputs": [
    {
     "name": "stdout",
     "output_type": "stream",
     "text": [
      "Train on 7982 samples, validate on 1000 samples\n",
      "Epoch 1/20\n",
      "7982/7982 [==============================] - 6s 721us/sample - loss: 1.5802 - accuracy: 0.6456 - val_loss: 1.1150 - val_accuracy: 0.7580\n",
      "Epoch 2/20\n",
      "7982/7982 [==============================] - 5s 653us/sample - loss: 0.8142 - accuracy: 0.8147 - val_loss: 0.9333 - val_accuracy: 0.8030\n",
      "Epoch 3/20\n",
      "7982/7982 [==============================] - 5s 657us/sample - loss: 0.4876 - accuracy: 0.8909 - val_loss: 1.0151 - val_accuracy: 0.7800\n",
      "Epoch 4/20\n",
      "7982/7982 [==============================] - 5s 604us/sample - loss: 0.3160 - accuracy: 0.9296 - val_loss: 0.9759 - val_accuracy: 0.8140\n",
      "Epoch 5/20\n",
      "7982/7982 [==============================] - 5s 601us/sample - loss: 0.2356 - accuracy: 0.9425 - val_loss: 1.0498 - val_accuracy: 0.8010\n",
      "Epoch 6/20\n",
      "7982/7982 [==============================] - 5s 580us/sample - loss: 0.1900 - accuracy: 0.9515 - val_loss: 1.0347 - val_accuracy: 0.7980\n",
      "Epoch 7/20\n",
      "7982/7982 [==============================] - 5s 580us/sample - loss: 0.1616 - accuracy: 0.9523 - val_loss: 1.0491 - val_accuracy: 0.8030\n",
      "Epoch 8/20\n",
      "7982/7982 [==============================] - 5s 593us/sample - loss: 0.1504 - accuracy: 0.9529 - val_loss: 1.1631 - val_accuracy: 0.8050\n",
      "Epoch 9/20\n",
      "7982/7982 [==============================] - 5s 605us/sample - loss: 0.1344 - accuracy: 0.9549 - val_loss: 1.2063 - val_accuracy: 0.8110\n",
      "Epoch 10/20\n",
      "7982/7982 [==============================] - 5s 605us/sample - loss: 0.1252 - accuracy: 0.9540 - val_loss: 1.1700 - val_accuracy: 0.8150\n",
      "Epoch 11/20\n",
      "7982/7982 [==============================] - 5s 597us/sample - loss: 0.1171 - accuracy: 0.9550 - val_loss: 1.3127 - val_accuracy: 0.7880\n",
      "Epoch 12/20\n",
      "7982/7982 [==============================] - 5s 584us/sample - loss: 0.1090 - accuracy: 0.9569 - val_loss: 1.4692 - val_accuracy: 0.7930\n",
      "Epoch 13/20\n",
      "7982/7982 [==============================] - 5s 581us/sample - loss: 0.1000 - accuracy: 0.9549 - val_loss: 1.5669 - val_accuracy: 0.7990\n",
      "Epoch 14/20\n",
      "7982/7982 [==============================] - 5s 582us/sample - loss: 0.0975 - accuracy: 0.9572 - val_loss: 1.6880 - val_accuracy: 0.7940\n",
      "Epoch 15/20\n",
      "7982/7982 [==============================] - 5s 602us/sample - loss: 0.0927 - accuracy: 0.9573 - val_loss: 1.5959 - val_accuracy: 0.7950\n",
      "Epoch 16/20\n",
      "7982/7982 [==============================] - 5s 623us/sample - loss: 0.0878 - accuracy: 0.9579 - val_loss: 1.5416 - val_accuracy: 0.8070\n",
      "Epoch 17/20\n",
      "7982/7982 [==============================] - 5s 601us/sample - loss: 0.0870 - accuracy: 0.9555 - val_loss: 1.9146 - val_accuracy: 0.7890\n",
      "Epoch 18/20\n",
      "7982/7982 [==============================] - 5s 594us/sample - loss: 0.0819 - accuracy: 0.9584 - val_loss: 1.7074 - val_accuracy: 0.8000\n",
      "Epoch 19/20\n",
      "7982/7982 [==============================] - 5s 590us/sample - loss: 0.0779 - accuracy: 0.9598 - val_loss: 2.1285 - val_accuracy: 0.7920\n",
      "Epoch 20/20\n",
      "7982/7982 [==============================] - 5s 603us/sample - loss: 0.0768 - accuracy: 0.9595 - val_loss: 2.2088 - val_accuracy: 0.7930\n"
     ]
    },
    {
     "data": {
      "text/plain": [
       "<tensorflow.python.keras.callbacks.History at 0x26f55b1a978>"
      ]
     },
     "execution_count": 36,
     "metadata": {},
     "output_type": "execute_result"
    }
   ],
   "source": [
    "# 3 hidden layers with 128 hidden units\n",
    "model = Sequential()\n",
    "model.add(Dense(128, activation='relu', input_shape=(10000,)))\n",
    "model.add(Dense(128, activation='relu'))\n",
    "model.add(Dense(128, activation='relu'))\n",
    "model.add(Dense(46, activation='softmax'))\n",
    "\n",
    "model.compile(optimizer='rmsprop', loss='categorical_crossentropy', metrics=['accuracy'])\n",
    "\n",
    "model.fit(partial_x_train, partial_y_train, epochs=20, batch_size=128,\n",
    "          validation_data=(x_val, y_val))"
   ]
  },
  {
   "cell_type": "code",
   "execution_count": null,
   "metadata": {},
   "outputs": [],
   "source": []
  },
  {
   "cell_type": "code",
   "execution_count": null,
   "metadata": {},
   "outputs": [],
   "source": []
  },
  {
   "cell_type": "code",
   "execution_count": null,
   "metadata": {},
   "outputs": [],
   "source": []
  },
  {
   "cell_type": "code",
   "execution_count": null,
   "metadata": {},
   "outputs": [],
   "source": []
  },
  {
   "cell_type": "code",
   "execution_count": null,
   "metadata": {},
   "outputs": [],
   "source": []
  },
  {
   "cell_type": "code",
   "execution_count": null,
   "metadata": {},
   "outputs": [],
   "source": []
  },
  {
   "cell_type": "code",
   "execution_count": null,
   "metadata": {},
   "outputs": [],
   "source": []
  },
  {
   "cell_type": "code",
   "execution_count": null,
   "metadata": {},
   "outputs": [],
   "source": []
  },
  {
   "cell_type": "code",
   "execution_count": null,
   "metadata": {},
   "outputs": [],
   "source": []
  }
 ],
 "metadata": {
  "kernelspec": {
   "display_name": "u4-s3-ds11",
   "language": "python",
   "name": "u4-s3-ds11"
  },
  "language_info": {
   "codemirror_mode": {
    "name": "ipython",
    "version": 3
   },
   "file_extension": ".py",
   "mimetype": "text/x-python",
   "name": "python",
   "nbconvert_exporter": "python",
   "pygments_lexer": "ipython3",
   "version": "3.7.0"
  }
 },
 "nbformat": 4,
 "nbformat_minor": 4
}

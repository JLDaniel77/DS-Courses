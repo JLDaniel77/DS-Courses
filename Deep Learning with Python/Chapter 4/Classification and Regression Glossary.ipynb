{
 "cells": [
  {
   "cell_type": "markdown",
   "metadata": {},
   "source": [
    "### Sample or Input\n",
    "\n",
    "- One data point that goes into your model.\n",
    "\n",
    "### Prediction or output\n",
    "\n",
    "- What comes out of your model.\n",
    "\n",
    "### Target\n",
    "\n",
    "- The truth. What your model should ideally have predicted, according to an external source of data.\n",
    "\n",
    "### Prediction error or loss value\n",
    "\n",
    "- A measure of the distance between your model's prediction and the target.\n",
    "\n",
    "### Classes\n",
    "\n",
    "- A set of possible lables to choose from in a classification problem. For example, when classifying cat and dog pictures, \"dog\" and \"cat\" are the two classes.\n",
    "\n",
    "### Label\n",
    "\n",
    "- A specific instance of a class annotation in a classification problem. For instance, if picture #1234 is annotated as containing the class \"dog\", then \"dog\" is a label of picture #1234.\n",
    "\n",
    "### Ground-truth or annotations\n",
    "\n",
    "- All targets for a dataset, typically collected by humans.\n",
    "\n",
    "### Binary Classification\n",
    "\n",
    "- A classification task where each input sample should be categorized into two exclusive categories.\n",
    "\n",
    "### Multiclass classificaiton\n",
    "\n",
    "- A classification task where each input sample should be categorized into more than two categories: for instance, classifying handwritten digits.\n",
    "\n",
    "### Multilabel classification\n",
    "\n",
    "- A classification task where each input sample can be assigned multiple labels. For instance, a given image may contain both a cat and a dog and should be annotated both with the \"cat\" label and the \"dog\" label. The number of labels per image is usually variable.\n",
    "\n",
    "### Scalar regression\n",
    "\n",
    "- A task where the target iws a continuous scalar value. Predicting house prices is a good example: the different target prices form a continuous space.\n",
    "\n",
    "### Vector regression\n",
    "\n",
    "- A task where the target is a set of continuous values: for example, a continuous vector. If you're doing regression against multiple values (such as the coordinates of a bounding box in an image), then you're doing vector regression.\n",
    "\n",
    "### Mini-batch or batch\n",
    "\n",
    "- A small set of samples (typically between 8 and 128) that are processed simultaneously by the model. The number of samples is often a power of 2, to facilitate memory allocation on GPU. When training, a mini-batch is used to compute a single gradient-descent update applied to the weights of the model."
   ]
  }
 ],
 "metadata": {
  "kernelspec": {
   "display_name": "u4-s3-ds11",
   "language": "python",
   "name": "u4-s3-ds11"
  },
  "language_info": {
   "codemirror_mode": {
    "name": "ipython",
    "version": 3
   },
   "file_extension": ".py",
   "mimetype": "text/x-python",
   "name": "python",
   "nbconvert_exporter": "python",
   "pygments_lexer": "ipython3",
   "version": "3.7.0"
  }
 },
 "nbformat": 4,
 "nbformat_minor": 4
}

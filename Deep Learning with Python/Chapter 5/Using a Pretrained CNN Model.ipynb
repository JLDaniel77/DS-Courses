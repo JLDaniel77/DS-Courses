{
 "cells": [
  {
   "cell_type": "code",
   "execution_count": 1,
   "metadata": {},
   "outputs": [],
   "source": [
    "from tensorflow.keras.applications import VGG16"
   ]
  },
  {
   "cell_type": "code",
   "execution_count": 2,
   "metadata": {},
   "outputs": [],
   "source": [
    "# Instantiating the VGG16 CNN base\n",
    "conv_base = VGG16(weights='imagenet', include_top=False, input_shape=(150, 150, 3))"
   ]
  },
  {
   "cell_type": "markdown",
   "metadata": {},
   "source": [
    "### Note:\n",
    "\n",
    "You pass three arguments to the constructor:\n",
    "\n",
    "- weights: specifies the weight checkpoint from which to initialize the model.\n",
    "- include_top: refers to including (or not) the densely connected classifier on top of the network.\n",
    "- input_shape: is the shape of the image tensors that you'll feed to the network. This argument is optional: if you don't pass it, the network will be able to process inputs of any size."
   ]
  },
  {
   "cell_type": "code",
   "execution_count": 3,
   "metadata": {},
   "outputs": [
    {
     "name": "stdout",
     "output_type": "stream",
     "text": [
      "Model: \"vgg16\"\n",
      "_________________________________________________________________\n",
      "Layer (type)                 Output Shape              Param #   \n",
      "=================================================================\n",
      "input_1 (InputLayer)         [(None, 150, 150, 3)]     0         \n",
      "_________________________________________________________________\n",
      "block1_conv1 (Conv2D)        (None, 150, 150, 64)      1792      \n",
      "_________________________________________________________________\n",
      "block1_conv2 (Conv2D)        (None, 150, 150, 64)      36928     \n",
      "_________________________________________________________________\n",
      "block1_pool (MaxPooling2D)   (None, 75, 75, 64)        0         \n",
      "_________________________________________________________________\n",
      "block2_conv1 (Conv2D)        (None, 75, 75, 128)       73856     \n",
      "_________________________________________________________________\n",
      "block2_conv2 (Conv2D)        (None, 75, 75, 128)       147584    \n",
      "_________________________________________________________________\n",
      "block2_pool (MaxPooling2D)   (None, 37, 37, 128)       0         \n",
      "_________________________________________________________________\n",
      "block3_conv1 (Conv2D)        (None, 37, 37, 256)       295168    \n",
      "_________________________________________________________________\n",
      "block3_conv2 (Conv2D)        (None, 37, 37, 256)       590080    \n",
      "_________________________________________________________________\n",
      "block3_conv3 (Conv2D)        (None, 37, 37, 256)       590080    \n",
      "_________________________________________________________________\n",
      "block3_pool (MaxPooling2D)   (None, 18, 18, 256)       0         \n",
      "_________________________________________________________________\n",
      "block4_conv1 (Conv2D)        (None, 18, 18, 512)       1180160   \n",
      "_________________________________________________________________\n",
      "block4_conv2 (Conv2D)        (None, 18, 18, 512)       2359808   \n",
      "_________________________________________________________________\n",
      "block4_conv3 (Conv2D)        (None, 18, 18, 512)       2359808   \n",
      "_________________________________________________________________\n",
      "block4_pool (MaxPooling2D)   (None, 9, 9, 512)         0         \n",
      "_________________________________________________________________\n",
      "block5_conv1 (Conv2D)        (None, 9, 9, 512)         2359808   \n",
      "_________________________________________________________________\n",
      "block5_conv2 (Conv2D)        (None, 9, 9, 512)         2359808   \n",
      "_________________________________________________________________\n",
      "block5_conv3 (Conv2D)        (None, 9, 9, 512)         2359808   \n",
      "_________________________________________________________________\n",
      "block5_pool (MaxPooling2D)   (None, 4, 4, 512)         0         \n",
      "=================================================================\n",
      "Total params: 14,714,688\n",
      "Trainable params: 14,714,688\n",
      "Non-trainable params: 0\n",
      "_________________________________________________________________\n"
     ]
    }
   ],
   "source": [
    "# Display model architecture\n",
    "conv_base.summary()"
   ]
  },
  {
   "cell_type": "markdown",
   "metadata": {},
   "source": [
    "### 2 options for using the pretrained CNN base:\n",
    "\n",
    "- Run the base over your dataset, recording its output to a Numpy array on disk, and then using this data as input to a standalone, densely connected classifier. This solution is fast and cheap to run because it only requires running the convolutional base once for every input image, and the convolutional base is by far the most expensive part of the pipeline. But, this solution won't allow you to use data augmentation.\n",
    "<br>\n",
    "<br>\n",
    "- Extend the model you have (conv_base) by adding Dense layers on top, and running the whole thing end to end on the input data. This will allow you to use data augmentation because every input image goes through the convolutional base every time it's seen by the model. But, this technique is far more expensive than the first."
   ]
  },
  {
   "cell_type": "markdown",
   "metadata": {},
   "source": [
    "# Fast Feature Extraction without Data Augmentation"
   ]
  },
  {
   "cell_type": "code",
   "execution_count": 4,
   "metadata": {},
   "outputs": [],
   "source": [
    "import os\n",
    "import numpy as np\n",
    "from tensorflow.keras.preprocessing.image import ImageDataGenerator"
   ]
  },
  {
   "cell_type": "code",
   "execution_count": 5,
   "metadata": {},
   "outputs": [],
   "source": [
    "base_dir = '/Users/theta/Desktop/DS-Courses/Deep Learning with Python/Chapter 5/data/cats_and_dogs_small'\n",
    "train_dir = os.path.join(base_dir, 'train')\n",
    "validation_dir = os.path.join(base_dir, 'validation')\n",
    "test_dir = os.path.join(base_dir, 'test')"
   ]
  },
  {
   "cell_type": "code",
   "execution_count": 10,
   "metadata": {},
   "outputs": [],
   "source": [
    "datagen = ImageDataGenerator(rescale=1./255)\n",
    "batch_size = 20\n",
    "\n",
    "def extract_features(directory, sample_count):\n",
    "    features = np.zeros(shape=(sample_count, 4, 4, 512))\n",
    "    labels = np.zeros(shape=(sample_count))\n",
    "    generator = datagen.flow_from_directory(\n",
    "        directory,\n",
    "        target_size=(150, 150),\n",
    "        batch_size=batch_size,\n",
    "        class_mode='binary')\n",
    "    i = 0\n",
    "    for inputs_batch, labels_batch in generator:\n",
    "        features_batch = conv_base.predict(inputs_batch)\n",
    "        features[i * batch_size : (i + 1) * batch_size] = features_batch\n",
    "        labels[i * batch_size : (i + 1) * batch_size] = labels_batch\n",
    "        i += 1\n",
    "        if i * batch_size >= sample_count:\n",
    "            break\n",
    "    return features, labels"
   ]
  },
  {
   "cell_type": "code",
   "execution_count": 11,
   "metadata": {},
   "outputs": [
    {
     "name": "stdout",
     "output_type": "stream",
     "text": [
      "Found 2000 images belonging to 2 classes.\n",
      "Found 1000 images belonging to 2 classes.\n",
      "Found 1000 images belonging to 2 classes.\n",
      "train_features: (2000, 4, 4, 512)\n",
      "train_labels: (2000,)\n",
      "validation_features: (1000, 4, 4, 512)\n",
      "validation_labels: (1000,)\n",
      "test_features: (1000, 4, 4, 512)\n",
      "test_labels: (1000,)\n"
     ]
    }
   ],
   "source": [
    "train_features, train_labels = extract_features(train_dir, 2000)\n",
    "validation_features, validation_labels = extract_features(validation_dir, 1000)\n",
    "test_features, test_labels = extract_features(test_dir, 1000)\n",
    "\n",
    "print('train_features:', train_features.shape)\n",
    "print('train_labels:', train_labels.shape)\n",
    "print('validation_features:', validation_features.shape)\n",
    "print('validation_labels:', validation_labels.shape)\n",
    "print('test_features:', test_features.shape)\n",
    "print('test_labels:', test_labels.shape)"
   ]
  },
  {
   "cell_type": "markdown",
   "metadata": {},
   "source": [
    "### Note:\n",
    "\n",
    "The extracted features are currently of shape (samples, 4, 4, 512). You'll feed them to a densely connected classifier, so first you must flatten them to (samples, 8192)"
   ]
  },
  {
   "cell_type": "code",
   "execution_count": 12,
   "metadata": {},
   "outputs": [],
   "source": [
    "train_features = np.reshape(train_features, (2000, 4 * 4 * 512))\n",
    "validation_features = np.reshape(validation_features, (1000, 4 * 4 * 512))\n",
    "test_features = np.reshape(test_features, (1000, 4 * 4 * 512))"
   ]
  },
  {
   "cell_type": "code",
   "execution_count": 15,
   "metadata": {},
   "outputs": [],
   "source": [
    "from tensorflow.keras.models import Sequential\n",
    "from tensorflow.keras.layers import Dense, Dropout\n",
    "from tensorflow.keras import optimizers"
   ]
  },
  {
   "cell_type": "code",
   "execution_count": 16,
   "metadata": {},
   "outputs": [
    {
     "name": "stdout",
     "output_type": "stream",
     "text": [
      "Train on 2000 samples, validate on 1000 samples\n",
      "Epoch 1/30\n",
      "2000/2000 [==============================] - 8s 4ms/sample - loss: 0.6555 - accuracy: 0.6305 - val_loss: 0.4460 - val_accuracy: 0.8360\n",
      "Epoch 2/30\n",
      "2000/2000 [==============================] - 7s 3ms/sample - loss: 0.4433 - accuracy: 0.7950 - val_loss: 0.3767 - val_accuracy: 0.8420\n",
      "Epoch 3/30\n",
      "2000/2000 [==============================] - 7s 3ms/sample - loss: 0.3643 - accuracy: 0.8445 - val_loss: 0.3367 - val_accuracy: 0.8570\n",
      "Epoch 4/30\n",
      "2000/2000 [==============================] - 7s 3ms/sample - loss: 0.3247 - accuracy: 0.8700 - val_loss: 0.3005 - val_accuracy: 0.8930\n",
      "Epoch 5/30\n",
      "2000/2000 [==============================] - 8s 4ms/sample - loss: 0.2973 - accuracy: 0.8790 - val_loss: 0.2863 - val_accuracy: 0.8950\n",
      "Epoch 6/30\n",
      "2000/2000 [==============================] - 7s 4ms/sample - loss: 0.2765 - accuracy: 0.8865 - val_loss: 0.2753 - val_accuracy: 0.8970\n",
      "Epoch 7/30\n",
      "2000/2000 [==============================] - 7s 3ms/sample - loss: 0.2520 - accuracy: 0.9055 - val_loss: 0.2666 - val_accuracy: 0.9050\n",
      "Epoch 8/30\n",
      "2000/2000 [==============================] - 7s 3ms/sample - loss: 0.2395 - accuracy: 0.9070 - val_loss: 0.2601 - val_accuracy: 0.9000\n",
      "Epoch 9/30\n",
      "2000/2000 [==============================] - 7s 3ms/sample - loss: 0.2306 - accuracy: 0.9085 - val_loss: 0.2712 - val_accuracy: 0.8950\n",
      "Epoch 10/30\n",
      "2000/2000 [==============================] - 7s 4ms/sample - loss: 0.2141 - accuracy: 0.9155 - val_loss: 0.2540 - val_accuracy: 0.9020\n",
      "Epoch 11/30\n",
      "2000/2000 [==============================] - 7s 3ms/sample - loss: 0.1995 - accuracy: 0.9210 - val_loss: 0.2497 - val_accuracy: 0.8980\n",
      "Epoch 12/30\n",
      "2000/2000 [==============================] - 7s 3ms/sample - loss: 0.1919 - accuracy: 0.9255 - val_loss: 0.2456 - val_accuracy: 0.9070\n",
      "Epoch 13/30\n",
      "2000/2000 [==============================] - 7s 3ms/sample - loss: 0.1844 - accuracy: 0.9335 - val_loss: 0.2441 - val_accuracy: 0.9060\n",
      "Epoch 14/30\n",
      "2000/2000 [==============================] - 7s 4ms/sample - loss: 0.1712 - accuracy: 0.9440 - val_loss: 0.2460 - val_accuracy: 0.9010\n",
      "Epoch 15/30\n",
      "2000/2000 [==============================] - 7s 3ms/sample - loss: 0.1682 - accuracy: 0.9430 - val_loss: 0.2426 - val_accuracy: 0.9040\n",
      "Epoch 16/30\n",
      "2000/2000 [==============================] - 7s 3ms/sample - loss: 0.1654 - accuracy: 0.9375 - val_loss: 0.2421 - val_accuracy: 0.9030\n",
      "Epoch 17/30\n",
      "2000/2000 [==============================] - 7s 3ms/sample - loss: 0.1544 - accuracy: 0.9445 - val_loss: 0.2421 - val_accuracy: 0.9030\n",
      "Epoch 18/30\n",
      "2000/2000 [==============================] - 7s 3ms/sample - loss: 0.1463 - accuracy: 0.9490 - val_loss: 0.2446 - val_accuracy: 0.9020\n",
      "Epoch 19/30\n",
      "2000/2000 [==============================] - 7s 4ms/sample - loss: 0.1405 - accuracy: 0.9530 - val_loss: 0.2422 - val_accuracy: 0.9030\n",
      "Epoch 20/30\n",
      "2000/2000 [==============================] - 7s 3ms/sample - loss: 0.1367 - accuracy: 0.9540 - val_loss: 0.2376 - val_accuracy: 0.9040\n",
      "Epoch 21/30\n",
      "2000/2000 [==============================] - 7s 4ms/sample - loss: 0.1285 - accuracy: 0.9555 - val_loss: 0.2590 - val_accuracy: 0.8960\n",
      "Epoch 22/30\n",
      "2000/2000 [==============================] - 7s 3ms/sample - loss: 0.1255 - accuracy: 0.9570 - val_loss: 0.2440 - val_accuracy: 0.9040\n",
      "Epoch 23/30\n",
      "2000/2000 [==============================] - 7s 4ms/sample - loss: 0.1230 - accuracy: 0.9605 - val_loss: 0.2466 - val_accuracy: 0.9020\n",
      "Epoch 24/30\n",
      "2000/2000 [==============================] - 7s 3ms/sample - loss: 0.1136 - accuracy: 0.9675 - val_loss: 0.2567 - val_accuracy: 0.8990\n",
      "Epoch 25/30\n",
      "2000/2000 [==============================] - 7s 3ms/sample - loss: 0.1127 - accuracy: 0.9610 - val_loss: 0.2427 - val_accuracy: 0.9070\n",
      "Epoch 26/30\n",
      "2000/2000 [==============================] - 7s 3ms/sample - loss: 0.1068 - accuracy: 0.9645 - val_loss: 0.2392 - val_accuracy: 0.9050\n",
      "Epoch 27/30\n",
      "2000/2000 [==============================] - 7s 4ms/sample - loss: 0.1045 - accuracy: 0.9650 - val_loss: 0.2568 - val_accuracy: 0.8970\n",
      "Epoch 28/30\n",
      "2000/2000 [==============================] - 7s 3ms/sample - loss: 0.1006 - accuracy: 0.9655 - val_loss: 0.2396 - val_accuracy: 0.8970\n",
      "Epoch 29/30\n",
      "2000/2000 [==============================] - 7s 3ms/sample - loss: 0.0986 - accuracy: 0.9650 - val_loss: 0.2408 - val_accuracy: 0.9020\n",
      "Epoch 30/30\n",
      "2000/2000 [==============================] - 7s 3ms/sample - loss: 0.0945 - accuracy: 0.9720 - val_loss: 0.2456 - val_accuracy: 0.9010\n"
     ]
    }
   ],
   "source": [
    "# Defining and training the densely connected classifier\n",
    "model = Sequential()\n",
    "model.add(Dense(256, activation='relu', input_dim=4 * 4 * 512))\n",
    "model.add(Dropout(0.5))\n",
    "model.add(Dense(1, activation='sigmoid'))\n",
    "\n",
    "# Compile the model\n",
    "model.compile(optimizer=optimizers.RMSprop(lr=2e-5), loss='binary_crossentropy', metrics=['accuracy'])\n",
    "\n",
    "# Train the model\n",
    "history = model.fit(train_features, train_labels, epochs=30, batch_size=20,\n",
    "                    validation_data=(validation_features, validation_labels))"
   ]
  },
  {
   "cell_type": "code",
   "execution_count": 17,
   "metadata": {},
   "outputs": [],
   "source": [
    "import matplotlib.pyplot as plt"
   ]
  },
  {
   "cell_type": "code",
   "execution_count": 18,
   "metadata": {},
   "outputs": [
    {
     "data": {
      "text/plain": [
       "dict_keys(['loss', 'accuracy', 'val_loss', 'val_accuracy'])"
      ]
     },
     "execution_count": 18,
     "metadata": {},
     "output_type": "execute_result"
    }
   ],
   "source": [
    "history.history.keys()"
   ]
  },
  {
   "cell_type": "code",
   "execution_count": 20,
   "metadata": {},
   "outputs": [
    {
     "data": {
      "image/png": "[encoded data removed]",
      "text/plain": [
       "<Figure size 432x288 with 1 Axes>"
      ]
     },
     "metadata": {
      "needs_background": "light"
     },
     "output_type": "display_data"
    },
    {
     "data": {
      "image/png": "[encoded data removed]",
      "text/plain": [
       "<Figure size 432x288 with 1 Axes>"
      ]
     },
     "metadata": {
      "needs_background": "light"
     },
     "output_type": "display_data"
    }
   ],
   "source": [
    "# Plotting the results\n",
    "acc = history.history['accuracy']\n",
    "val_acc = history.history['val_accuracy']\n",
    "loss = history.history['loss']\n",
    "val_loss = history.history['val_loss']\n",
    "\n",
    "epochs = range(1, len(acc) + 1)\n",
    "\n",
    "plt.plot(epochs, acc, 'bo', label='Training acc')\n",
    "plt.plot(epochs, val_acc, 'b', label='Validation acc')\n",
    "plt.title('Training and validation accuracy')\n",
    "plt.legend()\n",
    "\n",
    "plt.figure()\n",
    "\n",
    "plt.plot(epochs, loss, 'bo', label='Training loss')\n",
    "plt.plot(epochs, val_loss, 'b', label='Validation loss')\n",
    "plt.title('Training and validation loss')\n",
    "plt.legend()\n",
    "\n",
    "plt.show()"
   ]
  },
  {
   "cell_type": "markdown",
   "metadata": {},
   "source": [
    "# Feature Extraction with Data Augmentation"
   ]
  },
  {
   "cell_type": "markdown",
   "metadata": {},
   "source": [
    "### Note:\n",
    "\n",
    "Because models behave just like layers, you can add a model (like conv_base) to a Sequential model just like you would add a layer."
   ]
  },
  {
   "cell_type": "code",
   "execution_count": 21,
   "metadata": {},
   "outputs": [],
   "source": [
    "from tensorflow.keras.layers import Flatten"
   ]
  },
  {
   "cell_type": "code",
   "execution_count": 22,
   "metadata": {},
   "outputs": [],
   "source": [
    "# Build the model\n",
    "model = Sequential()\n",
    "model.add(conv_base)\n",
    "model.add(Flatten())\n",
    "model.add(Dense(256, activation='relu'))\n",
    "model.add(Dense(1, activation='sigmoid'))"
   ]
  },
  {
   "cell_type": "code",
   "execution_count": 23,
   "metadata": {},
   "outputs": [
    {
     "name": "stdout",
     "output_type": "stream",
     "text": [
      "Model: \"sequential_1\"\n",
      "_________________________________________________________________\n",
      "Layer (type)                 Output Shape              Param #   \n",
      "=================================================================\n",
      "vgg16 (Model)                (None, 4, 4, 512)         14714688  \n",
      "_________________________________________________________________\n",
      "flatten (Flatten)            (None, 8192)              0         \n",
      "_________________________________________________________________\n",
      "dense_2 (Dense)              (None, 256)               2097408   \n",
      "_________________________________________________________________\n",
      "dense_3 (Dense)              (None, 1)                 257       \n",
      "=================================================================\n",
      "Total params: 16,812,353\n",
      "Trainable params: 16,812,353\n",
      "Non-trainable params: 0\n",
      "_________________________________________________________________\n"
     ]
    }
   ],
   "source": [
    "# Display model architecture\n",
    "model.summary()"
   ]
  },
  {
   "cell_type": "markdown",
   "metadata": {},
   "source": [
    "### Freezing the conv_base layer\n",
    "\n",
    "Before you compile and train the model, it's very important to freeze the convolutional base. Freezing a layer or set of layers means preventing their weights from being updated during training. If you don't do this, then the representations that were previously learned by the convolutional base will be modified during training. Because the Dense layers on top are randomly initialized, very large weight updates would be propagated through the network, effectively destroying the represntations previously learned."
   ]
  },
  {
   "cell_type": "code",
   "execution_count": 24,
   "metadata": {},
   "outputs": [
    {
     "name": "stdout",
     "output_type": "stream",
     "text": [
      "This is the number of trainable weights before freezing the conv base: 30\n",
      "This is the number of trainable weights after freezing the conv base: 4\n"
     ]
    }
   ],
   "source": [
    "print('This is the number of trainable weights before freezing the conv base:', len(model.trainable_weights))\n",
    "\n",
    "# Freeze conv_base\n",
    "conv_base.trainable = False\n",
    "\n",
    "print('This is the number of trainable weights after freezing the conv base:', len(model.trainable_weights))"
   ]
  },
  {
   "cell_type": "markdown",
   "metadata": {},
   "source": [
    "### Note:\n",
    "\n",
    "Note that in order for these changes to take effect, you must first compile the model. If you ever modeify weight trainability after compilation, you should then recompile the model, or these changes will be ignored."
   ]
  },
  {
   "cell_type": "code",
   "execution_count": 27,
   "metadata": {},
   "outputs": [],
   "source": [
    "# Compile the model\n",
    "model.compile(loss='binary_crossentropy', optimizer=optimizers.RMSprop(lr=2e-5), metrics=['accuracy'])"
   ]
  },
  {
   "cell_type": "code",
   "execution_count": 28,
   "metadata": {},
   "outputs": [],
   "source": [
    "from tensorflow.keras.preprocessing.image import ImageDataGenerator"
   ]
  },
  {
   "cell_type": "code",
   "execution_count": 29,
   "metadata": {},
   "outputs": [
    {
     "name": "stdout",
     "output_type": "stream",
     "text": [
      "Found 2000 images belonging to 2 classes.\n",
      "Found 1000 images belonging to 2 classes.\n"
     ]
    }
   ],
   "source": [
    "# Create generators for data augmentation\n",
    "train_datagen = ImageDataGenerator(\n",
    "    rescale=1./255,\n",
    "    rotation_range=40,\n",
    "    width_shift_range=0.2,\n",
    "    height_shift_range=0.2,\n",
    "    shear_range=0.2,\n",
    "    zoom_range=0.2,\n",
    "    horizontal_flip=True,\n",
    "    fill_mode='nearest')\n",
    "\n",
    "# Note that the validation data should not be augmented\n",
    "test_datagen = ImageDataGenerator(rescale=1./255)\n",
    "\n",
    "train_generator = train_datagen.flow_from_directory(\n",
    "        train_dir,\n",
    "        target_size=(150, 150),\n",
    "        batch_size=20,\n",
    "        class_mode='binary')\n",
    "\n",
    "validation_generator = test_datagen.flow_from_directory(\n",
    "        validation_dir,\n",
    "        target_size=(150, 150),\n",
    "        batch_size=20,\n",
    "        class_mode='binary')"
   ]
  },
  {
   "cell_type": "code",
   "execution_count": 32,
   "metadata": {},
   "outputs": [
    {
     "name": "stdout",
     "output_type": "stream",
     "text": [
      "WARNING:tensorflow:sample_weight modes were coerced from\n",
      "  ...\n",
      "    to  \n",
      "  ['...']\n",
      "WARNING:tensorflow:sample_weight modes were coerced from\n",
      "  ...\n",
      "    to  \n",
      "  ['...']\n",
      "Train for 100 steps, validate for 50 steps\n",
      "Epoch 1/30\n",
      "100/100 [==============================] - 1117s 11s/step - loss: 0.5857 - accuracy: 0.6975 - val_loss: 0.4524 - val_accuracy: 0.8130\n",
      "Epoch 2/30\n",
      "100/100 [==============================] - 1140s 11s/step - loss: 0.4883 - accuracy: 0.7820 - val_loss: 0.3703 - val_accuracy: 0.8510\n",
      "Epoch 3/30\n",
      "100/100 [==============================] - 1529s 15s/step - loss: 0.4204 - accuracy: 0.8115 - val_loss: 0.3285 - val_accuracy: 0.8630\n",
      "Epoch 4/30\n",
      "100/100 [==============================] - 1131s 11s/step - loss: 0.4082 - accuracy: 0.8185 - val_loss: 0.3076 - val_accuracy: 0.8700\n",
      "Epoch 5/30\n",
      "100/100 [==============================] - 1153s 12s/step - loss: 0.3740 - accuracy: 0.8365 - val_loss: 0.2938 - val_accuracy: 0.8810\n",
      "Epoch 6/30\n",
      "100/100 [==============================] - 1138s 11s/step - loss: 0.3641 - accuracy: 0.8335 - val_loss: 0.2888 - val_accuracy: 0.8840\n",
      "Epoch 7/30\n",
      "100/100 [==============================] - 1172s 12s/step - loss: 0.3693 - accuracy: 0.8380 - val_loss: 0.2722 - val_accuracy: 0.8830\n",
      "Epoch 8/30\n",
      "100/100 [==============================] - 1266s 13s/step - loss: 0.3576 - accuracy: 0.8440 - val_loss: 0.2646 - val_accuracy: 0.8860\n",
      "Epoch 9/30\n",
      "100/100 [==============================] - 1308s 13s/step - loss: 0.3533 - accuracy: 0.8395 - val_loss: 0.2610 - val_accuracy: 0.8950\n",
      "Epoch 10/30\n",
      "100/100 [==============================] - 1764s 18s/step - loss: 0.3474 - accuracy: 0.8450 - val_loss: 0.2574 - val_accuracy: 0.8860\n",
      "Epoch 11/30\n",
      "100/100 [==============================] - 1157s 12s/step - loss: 0.3243 - accuracy: 0.8595 - val_loss: 0.2588 - val_accuracy: 0.8950\n",
      "Epoch 12/30\n",
      "100/100 [==============================] - 1357s 14s/step - loss: 0.3365 - accuracy: 0.8525 - val_loss: 0.2570 - val_accuracy: 0.8980\n",
      "Epoch 13/30\n",
      "100/100 [==============================] - 1423s 14s/step - loss: 0.3146 - accuracy: 0.8630 - val_loss: 0.2551 - val_accuracy: 0.9010\n",
      "Epoch 14/30\n",
      "100/100 [==============================] - 1265s 13s/step - loss: 0.3202 - accuracy: 0.8560 - val_loss: 0.2491 - val_accuracy: 0.8930\n",
      "Epoch 15/30\n",
      "100/100 [==============================] - 1639s 16s/step - loss: 0.3193 - accuracy: 0.8570 - val_loss: 0.2473 - val_accuracy: 0.9000\n",
      "Epoch 16/30\n",
      "100/100 [==============================] - 1701s 17s/step - loss: 0.3079 - accuracy: 0.8695 - val_loss: 0.2433 - val_accuracy: 0.8930\n",
      "Epoch 17/30\n",
      "100/100 [==============================] - 1172s 12s/step - loss: 0.3069 - accuracy: 0.8645 - val_loss: 0.2430 - val_accuracy: 0.8950\n",
      "Epoch 18/30\n",
      "100/100 [==============================] - 1203s 12s/step - loss: 0.3010 - accuracy: 0.8675 - val_loss: 0.2504 - val_accuracy: 0.8960\n",
      "Epoch 19/30\n",
      "100/100 [==============================] - 1937s 19s/step - loss: 0.2964 - accuracy: 0.8685 - val_loss: 0.2463 - val_accuracy: 0.8930\n",
      "Epoch 20/30\n",
      "100/100 [==============================] - 1362s 14s/step - loss: 0.3003 - accuracy: 0.8690 - val_loss: 0.2661 - val_accuracy: 0.8870\n",
      "Epoch 21/30\n",
      "100/100 [==============================] - 1123s 11s/step - loss: 0.2927 - accuracy: 0.8735 - val_loss: 0.2399 - val_accuracy: 0.9030\n",
      "Epoch 22/30\n",
      "100/100 [==============================] - 1123s 11s/step - loss: 0.3021 - accuracy: 0.8680 - val_loss: 0.2430 - val_accuracy: 0.8990\n",
      "Epoch 23/30\n",
      "100/100 [==============================] - 1118s 11s/step - loss: 0.2914 - accuracy: 0.8765 - val_loss: 0.2459 - val_accuracy: 0.8950\n",
      "Epoch 24/30\n",
      "100/100 [==============================] - 1125s 11s/step - loss: 0.2879 - accuracy: 0.8705 - val_loss: 0.2495 - val_accuracy: 0.8970\n",
      "Epoch 25/30\n",
      "100/100 [==============================] - 1117s 11s/step - loss: 0.2962 - accuracy: 0.8675 - val_loss: 0.2383 - val_accuracy: 0.8950\n",
      "Epoch 26/30\n",
      "100/100 [==============================] - 1119s 11s/step - loss: 0.2922 - accuracy: 0.8755 - val_loss: 0.2421 - val_accuracy: 0.8930\n",
      "Epoch 27/30\n",
      "100/100 [==============================] - 1121s 11s/step - loss: 0.2799 - accuracy: 0.8765 - val_loss: 0.2399 - val_accuracy: 0.9030\n",
      "Epoch 28/30\n",
      "100/100 [==============================] - 1118s 11s/step - loss: 0.2939 - accuracy: 0.8710 - val_loss: 0.2410 - val_accuracy: 0.9010\n",
      "Epoch 29/30\n",
      "100/100 [==============================] - 1118s 11s/step - loss: 0.2796 - accuracy: 0.8770 - val_loss: 0.2454 - val_accuracy: 0.9020\n",
      "Epoch 30/30\n",
      "100/100 [==============================] - 1123s 11s/step - loss: 0.2819 - accuracy: 0.8730 - val_loss: 0.2606 - val_accuracy: 0.8900\n"
     ]
    }
   ],
   "source": [
    "# Train the model\n",
    "history = model.fit(\n",
    "        train_generator,\n",
    "        steps_per_epoch=round(2000 / 20),\n",
    "        epochs = 30,\n",
    "        validation_data=validation_generator,\n",
    "        validation_steps=round(1000 / 20))"
   ]
  },
  {
   "cell_type": "code",
   "execution_count": 33,
   "metadata": {},
   "outputs": [
    {
     "data": {
      "image/png": "[encoded data removed]",
      "text/plain": [
       "<Figure size 432x288 with 1 Axes>"
      ]
     },
     "metadata": {
      "needs_background": "light"
     },
     "output_type": "display_data"
    },
    {
     "data": {
      "image/png": "[encoded data removed]",
      "text/plain": [
       "<Figure size 432x288 with 1 Axes>"
      ]
     },
     "metadata": {
      "needs_background": "light"
     },
     "output_type": "display_data"
    }
   ],
   "source": [
    "# Plotting the results\n",
    "acc = history.history['accuracy']\n",
    "val_acc = history.history['val_accuracy']\n",
    "loss = history.history['loss']\n",
    "val_loss = history.history['val_loss']\n",
    "\n",
    "epochs = range(1, len(acc) + 1)\n",
    "\n",
    "plt.plot(epochs, acc, 'bo', label='Training acc')\n",
    "plt.plot(epochs, val_acc, 'b', label='Validation acc')\n",
    "plt.title('Training and validation accuracy')\n",
    "plt.legend()\n",
    "\n",
    "plt.figure()\n",
    "\n",
    "plt.plot(epochs, loss, 'bo', label='Training loss')\n",
    "plt.plot(epochs, val_loss, 'b', label='Validation loss')\n",
    "plt.title('Training and validation loss')\n",
    "plt.legend()\n",
    "\n",
    "plt.show()"
   ]
  },
  {
   "cell_type": "markdown",
   "metadata": {},
   "source": [
    "# Fine-Tuning a Pretrained Model\n",
    "\n",
    "Another widely used technique for model reuse, compelentary to feature extraction, is fine-tuning. Fine-tuning consists of unfreezing a few of the top layers of a frozen model base used for feature extraction, and jointly training both the newly added part of the model (in this case, the fully connected classifier) and these top layers. This is called fine-tuning because it slightly adjusts the more abstract representations of the model being reused, in order to make them more relavant for the problem at hand."
   ]
  },
  {
   "cell_type": "markdown",
   "metadata": {},
   "source": [
    "As stated earlier, it's necessary to freeze the convolution base of VGG16 in order to be able to train a randomly initialized classifier on top. For the same reason, it's only possible to fine-tune the top layers of the convolutional base once the classifier on top has already been trained. If the classifier isn't already trained, then the error signal propagating through the network during training will be too large, and the representations previously learned by the layers being fine-tuned will be destroyed.\n",
    "\n",
    "### The steps for fine-tuning a network are as follow:\n",
    "\n",
    "- Add your custom network on top of an already-trained base network.\n",
    "- Freeze the base network.\n",
    "- Train the part you added (in this case, the fully connected classifier)\n",
    "- Unfreeze some layers in the base network.\n",
    "- Jointly train both these unfrozen layers and the part you added (the fully connected classifier)"
   ]
  },
  {
   "cell_type": "code",
   "execution_count": 34,
   "metadata": {},
   "outputs": [
    {
     "name": "stdout",
     "output_type": "stream",
     "text": [
      "Model: \"vgg16\"\n",
      "_________________________________________________________________\n",
      "Layer (type)                 Output Shape              Param #   \n",
      "=================================================================\n",
      "input_1 (InputLayer)         [(None, 150, 150, 3)]     0         \n",
      "_________________________________________________________________\n",
      "block1_conv1 (Conv2D)        (None, 150, 150, 64)      1792      \n",
      "_________________________________________________________________\n",
      "block1_conv2 (Conv2D)        (None, 150, 150, 64)      36928     \n",
      "_________________________________________________________________\n",
      "block1_pool (MaxPooling2D)   (None, 75, 75, 64)        0         \n",
      "_________________________________________________________________\n",
      "block2_conv1 (Conv2D)        (None, 75, 75, 128)       73856     \n",
      "_________________________________________________________________\n",
      "block2_conv2 (Conv2D)        (None, 75, 75, 128)       147584    \n",
      "_________________________________________________________________\n",
      "block2_pool (MaxPooling2D)   (None, 37, 37, 128)       0         \n",
      "_________________________________________________________________\n",
      "block3_conv1 (Conv2D)        (None, 37, 37, 256)       295168    \n",
      "_________________________________________________________________\n",
      "block3_conv2 (Conv2D)        (None, 37, 37, 256)       590080    \n",
      "_________________________________________________________________\n",
      "block3_conv3 (Conv2D)        (None, 37, 37, 256)       590080    \n",
      "_________________________________________________________________\n",
      "block3_pool (MaxPooling2D)   (None, 18, 18, 256)       0         \n",
      "_________________________________________________________________\n",
      "block4_conv1 (Conv2D)        (None, 18, 18, 512)       1180160   \n",
      "_________________________________________________________________\n",
      "block4_conv2 (Conv2D)        (None, 18, 18, 512)       2359808   \n",
      "_________________________________________________________________\n",
      "block4_conv3 (Conv2D)        (None, 18, 18, 512)       2359808   \n",
      "_________________________________________________________________\n",
      "block4_pool (MaxPooling2D)   (None, 9, 9, 512)         0         \n",
      "_________________________________________________________________\n",
      "block5_conv1 (Conv2D)        (None, 9, 9, 512)         2359808   \n",
      "_________________________________________________________________\n",
      "block5_conv2 (Conv2D)        (None, 9, 9, 512)         2359808   \n",
      "_________________________________________________________________\n",
      "block5_conv3 (Conv2D)        (None, 9, 9, 512)         2359808   \n",
      "_________________________________________________________________\n",
      "block5_pool (MaxPooling2D)   (None, 4, 4, 512)         0         \n",
      "=================================================================\n",
      "Total params: 14,714,688\n",
      "Trainable params: 0\n",
      "Non-trainable params: 14,714,688\n",
      "_________________________________________________________________\n"
     ]
    }
   ],
   "source": [
    "# Display the conv_base architecture\n",
    "conv_base.summary()"
   ]
  },
  {
   "cell_type": "code",
   "execution_count": 35,
   "metadata": {},
   "outputs": [],
   "source": [
    "# Freezing all layers up to a specific layer\n",
    "conv_base.trainable = True\n",
    "\n",
    "set_trainable = False\n",
    "for layer in conv_base.layers:\n",
    "    if layer.name == 'block5_conv1':\n",
    "        set_trainable = True\n",
    "    if set_trainable:\n",
    "        layer.trainable = True\n",
    "    else:\n",
    "        layer.trainable = False"
   ]
  },
  {
   "cell_type": "markdown",
   "metadata": {},
   "source": [
    "### Note:\n",
    "\n",
    "Now you can begin fine-tuning the network. You'll do this with the RMSprop optimizer, using a very low learning rate. The reason for using a low learning rate is that you want to limit the magnitude of the modifications you make to the representations of the three layers you're fine-tuning. Updates that are too large may harm these representations."
   ]
  },
  {
   "cell_type": "code",
   "execution_count": 36,
   "metadata": {},
   "outputs": [
    {
     "name": "stdout",
     "output_type": "stream",
     "text": [
      "WARNING:tensorflow:sample_weight modes were coerced from\n",
      "  ...\n",
      "    to  \n",
      "  ['...']\n",
      "WARNING:tensorflow:sample_weight modes were coerced from\n",
      "  ...\n",
      "    to  \n",
      "  ['...']\n",
      "Train for 100 steps, validate for 50 steps\n",
      "Epoch 1/100\n",
      "100/100 [==============================] - 2358s 24s/step - loss: 0.2932 - accuracy: 0.8775 - val_loss: 0.2323 - val_accuracy: 0.9110\n",
      "Epoch 2/100\n",
      "100/100 [==============================] - 1831s 18s/step - loss: 0.2476 - accuracy: 0.8945 - val_loss: 0.2024 - val_accuracy: 0.9200\n",
      "Epoch 3/100\n",
      "100/100 [==============================] - 1535s 15s/step - loss: 0.2489 - accuracy: 0.8935 - val_loss: 0.1870 - val_accuracy: 0.9270\n",
      "Epoch 4/100\n",
      "100/100 [==============================] - 1330s 13s/step - loss: 0.2126 - accuracy: 0.9135 - val_loss: 0.1924 - val_accuracy: 0.9200\n",
      "Epoch 5/100\n",
      "100/100 [==============================] - 1493s 15s/step - loss: 0.2124 - accuracy: 0.9160 - val_loss: 0.2429 - val_accuracy: 0.9080\n",
      "Epoch 6/100\n",
      "100/100 [==============================] - 1479s 15s/step - loss: 0.1873 - accuracy: 0.9180 - val_loss: 0.2151 - val_accuracy: 0.9170\n",
      "Epoch 7/100\n",
      "100/100 [==============================] - 1463s 15s/step - loss: 0.1894 - accuracy: 0.9215 - val_loss: 0.1956 - val_accuracy: 0.9320\n",
      "Epoch 8/100\n",
      "100/100 [==============================] - 1359s 14s/step - loss: 0.1628 - accuracy: 0.9365 - val_loss: 0.1928 - val_accuracy: 0.9300\n",
      "Epoch 9/100\n",
      "100/100 [==============================] - 1330s 13s/step - loss: 0.1729 - accuracy: 0.9300 - val_loss: 0.2118 - val_accuracy: 0.9260\n",
      "Epoch 10/100\n",
      "100/100 [==============================] - 1334s 13s/step - loss: 0.1601 - accuracy: 0.9315 - val_loss: 0.2036 - val_accuracy: 0.9260\n",
      "Epoch 11/100\n",
      "100/100 [==============================] - 1328s 13s/step - loss: 0.1613 - accuracy: 0.9345 - val_loss: 0.1843 - val_accuracy: 0.9310\n",
      "Epoch 12/100\n",
      "100/100 [==============================] - 1327s 13s/step - loss: 0.1477 - accuracy: 0.9390 - val_loss: 0.2121 - val_accuracy: 0.9190\n",
      "Epoch 13/100\n",
      "100/100 [==============================] - 1339s 13s/step - loss: 0.1374 - accuracy: 0.9445 - val_loss: 0.1997 - val_accuracy: 0.9280\n",
      "Epoch 14/100\n",
      "100/100 [==============================] - 1331s 13s/step - loss: 0.1235 - accuracy: 0.9515 - val_loss: 0.1829 - val_accuracy: 0.9380\n",
      "Epoch 15/100\n",
      "100/100 [==============================] - 1329s 13s/step - loss: 0.1267 - accuracy: 0.9495 - val_loss: 0.1755 - val_accuracy: 0.9390\n",
      "Epoch 16/100\n",
      "100/100 [==============================] - 1335s 13s/step - loss: 0.1059 - accuracy: 0.9625 - val_loss: 0.2165 - val_accuracy: 0.9260\n",
      "Epoch 17/100\n",
      "100/100 [==============================] - 1333s 13s/step - loss: 0.1074 - accuracy: 0.9565 - val_loss: 0.1744 - val_accuracy: 0.9320\n",
      "Epoch 18/100\n",
      "100/100 [==============================] - 1334s 13s/step - loss: 0.0985 - accuracy: 0.9605 - val_loss: 0.2699 - val_accuracy: 0.9140\n",
      "Epoch 19/100\n",
      "100/100 [==============================] - 1332s 13s/step - loss: 0.1005 - accuracy: 0.9610 - val_loss: 0.1986 - val_accuracy: 0.9270\n",
      "Epoch 20/100\n",
      "100/100 [==============================] - 1330s 13s/step - loss: 0.1055 - accuracy: 0.9525 - val_loss: 0.1970 - val_accuracy: 0.9310\n",
      "Epoch 21/100\n",
      "100/100 [==============================] - 1348s 13s/step - loss: 0.0987 - accuracy: 0.9590 - val_loss: 0.1980 - val_accuracy: 0.9370\n",
      "Epoch 22/100\n",
      "100/100 [==============================] - 1926s 19s/step - loss: 0.0887 - accuracy: 0.9690 - val_loss: 0.1976 - val_accuracy: 0.9370\n",
      "Epoch 23/100\n",
      "100/100 [==============================] - 2062s 21s/step - loss: 0.1055 - accuracy: 0.9570 - val_loss: 0.1749 - val_accuracy: 0.9360\n",
      "Epoch 24/100\n",
      "100/100 [==============================] - 1801s 18s/step - loss: 0.0838 - accuracy: 0.9660 - val_loss: 0.1845 - val_accuracy: 0.9330\n",
      "Epoch 25/100\n",
      "100/100 [==============================] - 1397s 14s/step - loss: 0.0776 - accuracy: 0.9680 - val_loss: 0.2131 - val_accuracy: 0.9340\n",
      "Epoch 26/100\n",
      "100/100 [==============================] - 1399s 14s/step - loss: 0.0915 - accuracy: 0.9655 - val_loss: 0.2148 - val_accuracy: 0.9280\n",
      "Epoch 27/100\n",
      "100/100 [==============================] - 1461s 15s/step - loss: 0.0636 - accuracy: 0.9745 - val_loss: 0.1915 - val_accuracy: 0.9310\n",
      "Epoch 28/100\n",
      "100/100 [==============================] - 1539s 15s/step - loss: 0.0701 - accuracy: 0.9745 - val_loss: 0.1903 - val_accuracy: 0.9410\n",
      "Epoch 29/100\n",
      "100/100 [==============================] - 1642s 16s/step - loss: 0.0769 - accuracy: 0.9710 - val_loss: 0.1883 - val_accuracy: 0.9400\n",
      "Epoch 30/100\n",
      "100/100 [==============================] - 1874s 19s/step - loss: 0.0796 - accuracy: 0.9715 - val_loss: 0.2058 - val_accuracy: 0.9390\n",
      "Epoch 31/100\n",
      "100/100 [==============================] - 1620s 16s/step - loss: 0.0828 - accuracy: 0.9655 - val_loss: 0.1909 - val_accuracy: 0.9340\n",
      "Epoch 32/100\n",
      "100/100 [==============================] - 1483s 15s/step - loss: 0.0639 - accuracy: 0.9765 - val_loss: 0.1921 - val_accuracy: 0.9370\n",
      "Epoch 33/100\n",
      "100/100 [==============================] - 1486s 15s/step - loss: 0.0584 - accuracy: 0.9820 - val_loss: 0.1851 - val_accuracy: 0.9340\n",
      "Epoch 34/100\n",
      "100/100 [==============================] - 1613s 16s/step - loss: 0.0475 - accuracy: 0.9810 - val_loss: 0.2441 - val_accuracy: 0.9260\n",
      "Epoch 35/100\n",
      "100/100 [==============================] - 1683s 17s/step - loss: 0.0633 - accuracy: 0.9760 - val_loss: 0.1997 - val_accuracy: 0.9370\n",
      "Epoch 36/100\n",
      "100/100 [==============================] - 1543s 15s/step - loss: 0.0545 - accuracy: 0.9805 - val_loss: 0.2241 - val_accuracy: 0.9330\n",
      "Epoch 37/100\n",
      "100/100 [==============================] - 1768s 18s/step - loss: 0.0532 - accuracy: 0.9780 - val_loss: 0.2199 - val_accuracy: 0.9380\n",
      "Epoch 38/100\n",
      "100/100 [==============================] - 1878s 19s/step - loss: 0.0605 - accuracy: 0.9770 - val_loss: 0.2088 - val_accuracy: 0.9410\n",
      "Epoch 39/100\n",
      "100/100 [==============================] - 1845s 18s/step - loss: 0.0548 - accuracy: 0.9800 - val_loss: 0.2098 - val_accuracy: 0.9380\n",
      "Epoch 40/100\n",
      "100/100 [==============================] - 1542s 15s/step - loss: 0.0573 - accuracy: 0.9805 - val_loss: 0.2175 - val_accuracy: 0.9380\n",
      "Epoch 41/100\n",
      "100/100 [==============================] - 1368s 14s/step - loss: 0.0493 - accuracy: 0.9775 - val_loss: 0.1996 - val_accuracy: 0.9430\n",
      "Epoch 42/100\n",
      "100/100 [==============================] - 1500s 15s/step - loss: 0.0463 - accuracy: 0.9835 - val_loss: 0.2089 - val_accuracy: 0.9360\n",
      "Epoch 43/100\n",
      "100/100 [==============================] - 1611s 16s/step - loss: 0.0506 - accuracy: 0.9805 - val_loss: 0.2557 - val_accuracy: 0.9310\n",
      "Epoch 44/100\n",
      "100/100 [==============================] - 1564s 16s/step - loss: 0.0516 - accuracy: 0.9805 - val_loss: 0.2233 - val_accuracy: 0.9250\n",
      "Epoch 45/100\n",
      "100/100 [==============================] - 1335s 13s/step - loss: 0.0402 - accuracy: 0.9850 - val_loss: 0.2080 - val_accuracy: 0.9370\n",
      "Epoch 46/100\n",
      "100/100 [==============================] - 1754s 18s/step - loss: 0.0453 - accuracy: 0.9835 - val_loss: 0.2321 - val_accuracy: 0.9390\n",
      "Epoch 47/100\n",
      "100/100 [==============================] - 1658s 17s/step - loss: 0.0517 - accuracy: 0.9795 - val_loss: 0.2834 - val_accuracy: 0.9310\n",
      "Epoch 48/100\n",
      "100/100 [==============================] - 1366s 14s/step - loss: 0.0466 - accuracy: 0.9805 - val_loss: 0.2140 - val_accuracy: 0.9390\n",
      "Epoch 49/100\n",
      "100/100 [==============================] - 1358s 14s/step - loss: 0.0402 - accuracy: 0.9875 - val_loss: 0.2893 - val_accuracy: 0.9300\n",
      "Epoch 50/100\n",
      "100/100 [==============================] - 1368s 14s/step - loss: 0.0446 - accuracy: 0.9845 - val_loss: 0.2266 - val_accuracy: 0.9400\n",
      "Epoch 51/100\n",
      "100/100 [==============================] - 1362s 14s/step - loss: 0.0409 - accuracy: 0.9845 - val_loss: 0.2175 - val_accuracy: 0.9320\n",
      "Epoch 52/100\n",
      "100/100 [==============================] - 1365s 14s/step - loss: 0.0404 - accuracy: 0.9840 - val_loss: 0.2408 - val_accuracy: 0.9330\n",
      "Epoch 53/100\n",
      "100/100 [==============================] - 1363s 14s/step - loss: 0.0420 - accuracy: 0.9845 - val_loss: 0.2185 - val_accuracy: 0.9290\n",
      "Epoch 54/100\n",
      "100/100 [==============================] - 1357s 14s/step - loss: 0.0373 - accuracy: 0.9860 - val_loss: 0.3107 - val_accuracy: 0.9230\n",
      "Epoch 55/100\n"
     ]
    },
    {
     "name": "stdout",
     "output_type": "stream",
     "text": [
      "100/100 [==============================] - 1354s 14s/step - loss: 0.0512 - accuracy: 0.9840 - val_loss: 0.1945 - val_accuracy: 0.9390\n",
      "Epoch 56/100\n",
      "100/100 [==============================] - 1363s 14s/step - loss: 0.0403 - accuracy: 0.9885 - val_loss: 0.2507 - val_accuracy: 0.9320\n",
      "Epoch 57/100\n",
      "100/100 [==============================] - 1358s 14s/step - loss: 0.0438 - accuracy: 0.9845 - val_loss: 0.2862 - val_accuracy: 0.9320\n",
      "Epoch 58/100\n",
      "100/100 [==============================] - 1362s 14s/step - loss: 0.0296 - accuracy: 0.9885 - val_loss: 0.2345 - val_accuracy: 0.9330\n",
      "Epoch 59/100\n",
      "100/100 [==============================] - 1359s 14s/step - loss: 0.0275 - accuracy: 0.9900 - val_loss: 0.3215 - val_accuracy: 0.9240\n",
      "Epoch 60/100\n",
      "100/100 [==============================] - 1358s 14s/step - loss: 0.0317 - accuracy: 0.9905 - val_loss: 0.3135 - val_accuracy: 0.9280\n",
      "Epoch 61/100\n",
      "100/100 [==============================] - 1361s 14s/step - loss: 0.0360 - accuracy: 0.9870 - val_loss: 0.2587 - val_accuracy: 0.9300\n",
      "Epoch 62/100\n",
      "100/100 [==============================] - 1354s 14s/step - loss: 0.0238 - accuracy: 0.9945 - val_loss: 0.2445 - val_accuracy: 0.9320\n",
      "Epoch 63/100\n",
      "100/100 [==============================] - 1357s 14s/step - loss: 0.0353 - accuracy: 0.9855 - val_loss: 0.2020 - val_accuracy: 0.9390\n",
      "Epoch 64/100\n",
      "100/100 [==============================] - 1358s 14s/step - loss: 0.0264 - accuracy: 0.9910 - val_loss: 0.3037 - val_accuracy: 0.9250\n",
      "Epoch 65/100\n",
      "100/100 [==============================] - 1357s 14s/step - loss: 0.0204 - accuracy: 0.9920 - val_loss: 0.2425 - val_accuracy: 0.9370\n",
      "Epoch 66/100\n",
      "100/100 [==============================] - 1359s 14s/step - loss: 0.0279 - accuracy: 0.9900 - val_loss: 0.2068 - val_accuracy: 0.9360\n",
      "Epoch 67/100\n",
      "100/100 [==============================] - 1354s 14s/step - loss: 0.0258 - accuracy: 0.9890 - val_loss: 0.4902 - val_accuracy: 0.9130\n",
      "Epoch 68/100\n",
      "100/100 [==============================] - 1354s 14s/step - loss: 0.0268 - accuracy: 0.9900 - val_loss: 0.4125 - val_accuracy: 0.9270\n",
      "Epoch 69/100\n",
      "100/100 [==============================] - 1361s 14s/step - loss: 0.0257 - accuracy: 0.9920 - val_loss: 0.2390 - val_accuracy: 0.9380\n",
      "Epoch 70/100\n",
      "100/100 [==============================] - 1354s 14s/step - loss: 0.0307 - accuracy: 0.9900 - val_loss: 0.2281 - val_accuracy: 0.9370\n",
      "Epoch 71/100\n",
      "100/100 [==============================] - 1605s 16s/step - loss: 0.0316 - accuracy: 0.9905 - val_loss: 0.2690 - val_accuracy: 0.9410\n",
      "Epoch 72/100\n",
      "100/100 [==============================] - 1784s 18s/step - loss: 0.0275 - accuracy: 0.9885 - val_loss: 0.2376 - val_accuracy: 0.9410\n",
      "Epoch 73/100\n",
      "100/100 [==============================] - 1543s 15s/step - loss: 0.0290 - accuracy: 0.9910 - val_loss: 0.2128 - val_accuracy: 0.9360\n",
      "Epoch 74/100\n",
      "100/100 [==============================] - 1377s 14s/step - loss: 0.0359 - accuracy: 0.9905 - val_loss: 0.2121 - val_accuracy: 0.9380\n",
      "Epoch 75/100\n",
      "100/100 [==============================] - 1462s 15s/step - loss: 0.0256 - accuracy: 0.9915 - val_loss: 0.2111 - val_accuracy: 0.9410\n",
      "Epoch 76/100\n",
      "100/100 [==============================] - 2465s 25s/step - loss: 0.0206 - accuracy: 0.9945 - val_loss: 0.3595 - val_accuracy: 0.9290\n",
      "Epoch 77/100\n",
      "100/100 [==============================] - 1543s 15s/step - loss: 0.0266 - accuracy: 0.9935 - val_loss: 0.2216 - val_accuracy: 0.9370\n",
      "Epoch 78/100\n",
      "100/100 [==============================] - 1683s 17s/step - loss: 0.0234 - accuracy: 0.9915 - val_loss: 0.4409 - val_accuracy: 0.9190\n",
      "Epoch 79/100\n",
      "100/100 [==============================] - 1536s 15s/step - loss: 0.0229 - accuracy: 0.9925 - val_loss: 0.2348 - val_accuracy: 0.9390\n",
      "Epoch 80/100\n",
      "100/100 [==============================] - 1586s 16s/step - loss: 0.0242 - accuracy: 0.9910 - val_loss: 0.2223 - val_accuracy: 0.9440\n",
      "Epoch 81/100\n",
      "100/100 [==============================] - 1823s 18s/step - loss: 0.0286 - accuracy: 0.9910 - val_loss: 0.2511 - val_accuracy: 0.9440\n",
      "Epoch 82/100\n",
      "100/100 [==============================] - 1581s 16s/step - loss: 0.0263 - accuracy: 0.9890 - val_loss: 0.3694 - val_accuracy: 0.9220\n",
      "Epoch 83/100\n",
      "100/100 [==============================] - 1710s 17s/step - loss: 0.0243 - accuracy: 0.9910 - val_loss: 0.2370 - val_accuracy: 0.9420\n",
      "Epoch 84/100\n",
      "100/100 [==============================] - 1544s 15s/step - loss: 0.0159 - accuracy: 0.9940 - val_loss: 0.2518 - val_accuracy: 0.9460\n",
      "Epoch 85/100\n",
      "100/100 [==============================] - 1400s 14s/step - loss: 0.0245 - accuracy: 0.9920 - val_loss: 0.2437 - val_accuracy: 0.9440\n",
      "Epoch 86/100\n",
      "100/100 [==============================] - 1578s 16s/step - loss: 0.0191 - accuracy: 0.9940 - val_loss: 0.3129 - val_accuracy: 0.9390\n",
      "Epoch 87/100\n",
      "100/100 [==============================] - 1782s 18s/step - loss: 0.0277 - accuracy: 0.9910 - val_loss: 0.2705 - val_accuracy: 0.9450\n",
      "Epoch 88/100\n",
      "100/100 [==============================] - 1475s 15s/step - loss: 0.0270 - accuracy: 0.9910 - val_loss: 0.2835 - val_accuracy: 0.9390\n",
      "Epoch 89/100\n",
      "100/100 [==============================] - 1624s 16s/step - loss: 0.0352 - accuracy: 0.9890 - val_loss: 0.2830 - val_accuracy: 0.9340\n",
      "Epoch 90/100\n",
      "100/100 [==============================] - 1880s 19s/step - loss: 0.0190 - accuracy: 0.9945 - val_loss: 0.2752 - val_accuracy: 0.9420\n",
      "Epoch 91/100\n",
      "100/100 [==============================] - 1872s 19s/step - loss: 0.0238 - accuracy: 0.9895 - val_loss: 0.2441 - val_accuracy: 0.9420\n",
      "Epoch 92/100\n",
      "100/100 [==============================] - 1759s 18s/step - loss: 0.0211 - accuracy: 0.9940 - val_loss: 0.2629 - val_accuracy: 0.9350\n",
      "Epoch 93/100\n",
      "100/100 [==============================] - 2450s 25s/step - loss: 0.0206 - accuracy: 0.9930 - val_loss: 0.2711 - val_accuracy: 0.9420\n",
      "Epoch 94/100\n",
      "100/100 [==============================] - 1436s 14s/step - loss: 0.0192 - accuracy: 0.9935 - val_loss: 0.3298 - val_accuracy: 0.9320\n",
      "Epoch 95/100\n",
      "100/100 [==============================] - 1624s 16s/step - loss: 0.0257 - accuracy: 0.9935 - val_loss: 0.2499 - val_accuracy: 0.9380\n",
      "Epoch 96/100\n",
      "100/100 [==============================] - 2125s 21s/step - loss: 0.0250 - accuracy: 0.9890 - val_loss: 0.2529 - val_accuracy: 0.9340\n",
      "Epoch 97/100\n",
      "100/100 [==============================] - 1744s 17s/step - loss: 0.0237 - accuracy: 0.9910 - val_loss: 0.3498 - val_accuracy: 0.9270\n",
      "Epoch 98/100\n",
      "100/100 [==============================] - 1320s 13s/step - loss: 0.0123 - accuracy: 0.9950 - val_loss: 0.2802 - val_accuracy: 0.9420\n",
      "Epoch 99/100\n",
      "100/100 [==============================] - 1321s 13s/step - loss: 0.0223 - accuracy: 0.9940 - val_loss: 0.2626 - val_accuracy: 0.9380\n",
      "Epoch 100/100\n",
      "100/100 [==============================] - 1326s 13s/step - loss: 0.0199 - accuracy: 0.9930 - val_loss: 0.3053 - val_accuracy: 0.9370\n"
     ]
    }
   ],
   "source": [
    "# Compile the model\n",
    "model.compile(loss='binary_crossentropy',\n",
    "              optimizer=optimizers.RMSprop(lr=1e-5),\n",
    "              metrics=['accuracy'])\n",
    "\n",
    "# Train the model\n",
    "history = model.fit(\n",
    "    train_generator,\n",
    "    steps_per_epoch=round(2000 / 20),\n",
    "    epochs=100,\n",
    "    validation_data=validation_generator,\n",
    "    validation_steps=round(1000 / 20))"
   ]
  },
  {
   "cell_type": "code",
   "execution_count": 37,
   "metadata": {},
   "outputs": [],
   "source": [
    "# Saving the model\n",
    "# Used convolutional base of vgg16 pre-trained model, with\n",
    "# block 5 unfrozen and retrained with classifier from previous model\n",
    "model.save('vgg16_base_block5_unfrozen_with_classifier.h5')"
   ]
  },
  {
   "cell_type": "code",
   "execution_count": 38,
   "metadata": {},
   "outputs": [
    {
     "data": {
      "image/png": "[encoded data removed]",
      "text/plain": [
       "<Figure size 432x288 with 1 Axes>"
      ]
     },
     "metadata": {
      "needs_background": "light"
     },
     "output_type": "display_data"
    },
    {
     "data": {
      "image/png": "[encoded data removed]",
      "text/plain": [
       "<Figure size 432x288 with 1 Axes>"
      ]
     },
     "metadata": {
      "needs_background": "light"
     },
     "output_type": "display_data"
    }
   ],
   "source": [
    "# Plotting the results\n",
    "acc = history.history['accuracy']\n",
    "val_acc = history.history['val_accuracy']\n",
    "loss = history.history['loss']\n",
    "val_loss = history.history['val_loss']\n",
    "\n",
    "epochs = range(1, len(acc) + 1)\n",
    "\n",
    "plt.plot(epochs, acc, 'bo', label='Training acc')\n",
    "plt.plot(epochs, val_acc, 'b', label='Validation acc')\n",
    "plt.title('Training and validation accuracy')\n",
    "plt.legend()\n",
    "\n",
    "plt.figure()\n",
    "\n",
    "plt.plot(epochs, loss, 'bo', label='Training loss')\n",
    "plt.plot(epochs, val_loss, 'b', label='Validation loss')\n",
    "plt.title('Training and validation loss')\n",
    "plt.legend()\n",
    "\n",
    "plt.show()"
   ]
  },
  {
   "cell_type": "code",
   "execution_count": 39,
   "metadata": {},
   "outputs": [
    {
     "data": {
      "image/png": "[encoded data removed]",
      "text/plain": [
       "<Figure size 432x288 with 1 Axes>"
      ]
     },
     "metadata": {
      "needs_background": "light"
     },
     "output_type": "display_data"
    },
    {
     "data": {
      "image/png": "[encoded data removed]",
      "text/plain": [
       "<Figure size 432x288 with 1 Axes>"
      ]
     },
     "metadata": {
      "needs_background": "light"
     },
     "output_type": "display_data"
    }
   ],
   "source": [
    "# Smoothing the plots with exponential moving averages\n",
    "def smooth_curve(points, factor=0.8):\n",
    "    smoothed_points = []\n",
    "    for point in points:\n",
    "        if smoothed_points:\n",
    "            previous = smoothed_points[-1]\n",
    "            smoothed_points.append(previous * factor + point * (1 - factor))\n",
    "        else:\n",
    "            smoothed_points.append(point)\n",
    "    return smoothed_points\n",
    "\n",
    "plt.plot(epochs, smooth_curve(acc), 'bo', label='Smoothed training acc')\n",
    "plt.plot(epochs, smooth_curve(val_acc), 'b', label='Smoothed validation acc')\n",
    "plt.title('Training and validation accuracy')\n",
    "plt.legend()\n",
    "\n",
    "plt.figure()\n",
    "\n",
    "plt.plot(epochs, smooth_curve(loss), 'bo', label='Smoothed training loss')\n",
    "plt.plot(epochs, smooth_curve(val_loss), 'b', label='Smoothed validation loss')\n",
    "plt.title('Training and validation loss')\n",
    "plt.legend()\n",
    "\n",
    "plt.show()"
   ]
  }
 ],
 "metadata": {
  "kernelspec": {
   "display_name": "u4-s3-ds11",
   "language": "python",
   "name": "u4-s3-ds11"
  },
  "language_info": {
   "codemirror_mode": {
    "name": "ipython",
    "version": 3
   },
   "file_extension": ".py",
   "mimetype": "text/x-python",
   "name": "python",
   "nbconvert_exporter": "python",
   "pygments_lexer": "ipython3",
   "version": "3.7.0"
  }
 },
 "nbformat": 4,
 "nbformat_minor": 4
}
